{
 "cells": [
  {
   "cell_type": "markdown",
   "id": "a6c5c8cd",
   "metadata": {},
   "source": [
    "## KDJ 当日金叉 死叉"
   ]
  },
  {
   "cell_type": "code",
   "execution_count": 1,
   "id": "5c569d7d",
   "metadata": {},
   "outputs": [],
   "source": [
    "import akshare as ak\n",
    "from datetime import datetime, timedelta\n",
    "from pathlib import Path\n",
    "import pandas as pd\n",
    "from pandas import DataFrame, Series\n",
    "\n",
    "import common\n",
    "import calculate"
   ]
  },
  {
   "cell_type": "code",
   "execution_count": 2,
   "id": "9a7cf535",
   "metadata": {},
   "outputs": [],
   "source": [
    "file_name = \"./txt_lib/stock_code.txt\"\n",
    "with open(file_name, \"r\") as file:\n",
    "    stock_list = [line.strip() for line in file if line.strip()]\n",
    "\n",
    "# # 限制股票数量\n",
    "# stock_list = stock_list[:150]\n",
    "\n",
    "# all_cross_dates = process_stocks(stock_list)\n",
    "all_cross_dates = common.Final_process_KDJ.process_stocks(stock_list)"
   ]
  },
  {
   "cell_type": "code",
   "execution_count": 3,
   "id": "0ba50232",
   "metadata": {},
   "outputs": [],
   "source": [
    "try:\n",
    "    folder = Path(\"./output/golden_output\")\n",
    "    folder.mkdir()\n",
    "    folder = Path(\"./output/death_output\")\n",
    "    folder.mkdir()\n",
    "    folder = Path(\"./output/操作1.1\")\n",
    "    folder.mkdir()\n",
    "except Exception as e:\n",
    "    pass\n",
    "\n",
    "# 清理两个文件夹\n",
    "common.Final_file.clean_folder(\"./output/death_output\")\n",
    "common.Final_file.clean_folder(\"./output/golden_output\")\n",
    "common.Final_file.clean_folder(\"./output/操作1.1\")"
   ]
  },
  {
   "cell_type": "code",
   "execution_count": 4,
   "id": "8af18a48",
   "metadata": {},
   "outputs": [],
   "source": [
    "# 选出今日金叉list\n",
    "today_gold_cross_list = []\n",
    "for stock_code in all_cross_dates.keys():\n",
    "    if all_cross_dates[stock_code][\"Golden_Cross\"]:\n",
    "        today_gold_cross_list.append(stock_code)\n",
    "\n",
    "# 选出今日死叉list\n",
    "today_death_cross_list = []\n",
    "for stock_code in all_cross_dates.keys():\n",
    "    if all_cross_dates[stock_code][\"Death_Cross\"]:\n",
    "        today_death_cross_list.append(stock_code)\n",
    "\n",
    "# KDJ日金 + MACD 2 条件 → 操作1.1\n",
    "to_perfect_stock_list = common.Final_process.process_stocks(\n",
    "    today_gold_cross_list, mode=\"MACD_2_condition\"\n",
    ")\n",
    "# output_file = \"./output/操作1.1/操作1.1.xlsx\"\n",
    "# common.Final_file.output_excel(to_perfect_stock_list, output_file, condition=\"完美\")\n",
    "# common.Final_file.mk_pic(output_file)  # 生成所有图片"
   ]
  },
  {
   "cell_type": "code",
   "execution_count": 5,
   "id": "184927e9",
   "metadata": {},
   "outputs": [
    {
     "name": "stdout",
     "output_type": "stream",
     "text": [
      "Excel 文件已生成\n",
      "已生成今日金叉 死叉TXT\n"
     ]
    }
   ],
   "source": [
    "# 生成今日金叉 死叉Excel\n",
    "common.Final_file_KDJ.output_excel(all_cross_dates)\n",
    "\n",
    "# 生成今日金叉 死叉TXT\n",
    "print(\"已生成今日金叉 死叉TXT\")\n",
    "today_death_txt_path = \"./output/death_output/today_death_cross.txt\"\n",
    "with open(today_death_txt_path, \"w\") as file:\n",
    "    for item in today_death_cross_list:\n",
    "        file.write(item + \"\\n\")  # 每个元素后加换行符\n",
    "\n",
    "today_gold_txt_path = \"./output/golden_output/today_gold_cross.txt\"\n",
    "with open(today_gold_txt_path, \"w\") as file:\n",
    "    for item in today_gold_cross_list:\n",
    "        file.write(item + \"\\n\")  # 每个元素后加换行符"
   ]
  },
  {
   "cell_type": "markdown",
   "id": "4402a94d",
   "metadata": {},
   "source": [
    "# 按需分流 KDJ日金叉 & KDJ日死叉 代码仓库"
   ]
  },
  {
   "cell_type": "code",
   "execution_count": 3,
   "id": "7170bcb1",
   "metadata": {},
   "outputs": [
    {
     "name": "stdout",
     "output_type": "stream",
     "text": [
      "Processed stock codes saved to ./txt_lib/yest_KDJ日金.txt.\n",
      "Processed stock codes saved to ./txt_lib/yest_KDJ日死.txt.\n"
     ]
    }
   ],
   "source": [
    "# 给原始股票代码加上抬头；'600001' → 'sh600001'\n",
    "def add_capital(input_file: str, output_file: str):\n",
    "    with open(input_file, \"r\") as infile, open(output_file, \"w\") as outfile:\n",
    "        for line in infile:\n",
    "            stock_code = line.strip()\n",
    "            if stock_code.startswith(\"6\"):\n",
    "                processed_code = f\"sh{stock_code}\"\n",
    "            else:\n",
    "                processed_code = f\"sz{stock_code}\"\n",
    "            outfile.write(processed_code + \"\\n\")\n",
    "\n",
    "    print(f\"Processed stock codes saved to {output_file}.\")\n",
    "\n",
    "# 复制一份昨日txt 留档\n",
    "def copy_yest_txt(input_file: str, output_file: str):\n",
    "    with open(input_file, \"r\") as infile, open(output_file, \"w\") as outfile:\n",
    "        for line in infile:\n",
    "            stock_code = line.strip()\n",
    "            outfile.write(stock_code + \"\\n\")\n",
    "    print(f\"Processed stock codes saved to {output_file}.\")\n",
    "\n",
    "\n",
    "dict_filename = \"./txt_lib/stock_name.txt\"\n",
    "stock_dict = common.Initialization.generate_stock_dict(dict_filename)\n",
    "\n",
    "input_file = \"./txt_lib/KDJ日金.txt\"\n",
    "output_file = \"./txt_lib/yest_KDJ日金.txt\"\n",
    "copy_yest_txt(input_file,output_file)\n",
    "input_file = \"./txt_lib/KDJ日死.txt\"\n",
    "output_file = \"./txt_lib/yest_KDJ日死.txt\"\n",
    "copy_yest_txt(input_file, output_file)\n",
    "\n",
    "# 清理两个文件夹\n",
    "common.Final_file.clean_folder(\"./output/KDJ日金\")\n",
    "common.Final_file.clean_folder(\"./output/KDJ日死\")\n",
    "common.Final_file.clean_folder(\"./output/KDJ8\")"
   ]
  },
  {
   "cell_type": "code",
   "execution_count": 4,
   "id": "bf974af6",
   "metadata": {},
   "outputs": [
    {
     "name": "stdout",
     "output_type": "stream",
     "text": [
      "Processed stock codes saved to ./txt_lib/processed_KDJ日金.txt.\n"
     ]
    }
   ],
   "source": [
    "## 处理 KDJ日金 + 周死叉 → 弃\n",
    "# 读取原始文件并处理\n",
    "input_file = \"./txt_lib/KDJ日金.txt\"\n",
    "output_file = \"./txt_lib/processed_KDJ日金.txt\"\n",
    "add_capital(input_file, output_file)\n",
    "\n",
    "file_name = output_file\n",
    "with open(file_name, \"r\") as file:\n",
    "    gold_stock_list = [line.strip() for line in file if line.strip()]\n",
    "\n",
    "gold_to_del_stock_list = []\n",
    "gold_to_del_week_death = common.Final_process.process_stocks(gold_stock_list, mode=\"week_death\")\n",
    "\n",
    "## 处理 KDJ日金 + macd < 0 → 弃\n",
    "\n",
    "gold_macd_below0 = []\n",
    "gold_macd_below0 = common.Final_process.process_stocks(gold_stock_list, mode=\"macd < 0\")\n",
    "\n",
    "## 处理 KDJ日金 + J < K → 弃\n",
    "gold_J_K = []\n",
    "gold_J_K = common.Final_process.process_stocks(gold_stock_list, mode=\"J_K\")\n",
    "\n",
    "# 把选出股票加入 to_del 数组中\n",
    "gold_to_del_stock_list = gold_to_del_week_death + gold_macd_below0 + gold_J_K"
   ]
  },
  {
   "cell_type": "code",
   "execution_count": 8,
   "id": "a889ad79",
   "metadata": {},
   "outputs": [
    {
     "name": "stdout",
     "output_type": "stream",
     "text": [
      "Processed stock codes saved to ./txt_lib/processed_KDJ日死.txt.\n"
     ]
    }
   ],
   "source": [
    "## 处理 KDJ日死 + 周死叉 → 弃\n",
    "# 读取原始文件并处理\n",
    "input_file = \"./txt_lib/KDJ日死.txt\"\n",
    "output_file = \"./txt_lib/processed_KDJ日死.txt\"\n",
    "add_capital(input_file, output_file)\n",
    "\n",
    "file_name = output_file\n",
    "with open(file_name, \"r\") as file:\n",
    "    death_stock_list = [line.strip() for line in file if line.strip()]\n",
    "\n",
    "death_to_del_stock_list = []\n",
    "death_to_del_stock_list = common.Final_process.process_stocks(death_stock_list, mode=\"week_death\")"
   ]
  },
  {
   "cell_type": "code",
   "execution_count": 5,
   "id": "a437c572",
   "metadata": {},
   "outputs": [],
   "source": [
    "## 处理 KDJ日金 + 日死 → KDJ日死\n",
    "gold_to_move_day_death_stock_list = []\n",
    "gold_to_move_day_death_stock_list = common.Final_process.process_stocks(gold_stock_list, mode=\"daily_death\")"
   ]
  },
  {
   "cell_type": "code",
   "execution_count": 6,
   "id": "55d22d67",
   "metadata": {},
   "outputs": [],
   "source": [
    "## 处理 KDJ日金 + J线拐头 → KDJ8\n",
    "gold_to_move_8_stock_list = []\n",
    "gold_to_move_8_stock_list = common.Final_process.process_stocks(\n",
    "    gold_stock_list, mode=\"J_turn_around\"\n",
    ")"
   ]
  },
  {
   "cell_type": "code",
   "execution_count": 9,
   "id": "e5780921",
   "metadata": {},
   "outputs": [],
   "source": [
    "## KDJ日死 + Bol: 前次碰上轨，今日碰下轨 → 操作2\n",
    "death_to_op2_list = []\n",
    "death_to_op2_list = common.Final_process.process_stocks(death_stock_list, mode=\"bol_lower\")"
   ]
  },
  {
   "cell_type": "code",
   "execution_count": 10,
   "id": "25b1b694",
   "metadata": {},
   "outputs": [],
   "source": [
    "## 找出 KDJ日死 接近金叉的股票\n",
    "death_near_gold_list = []\n",
    "death_near_gold_list = common.Final_process.process_stocks(\n",
    "    death_stock_list, mode=\"kdj_near_gold\"\n",
    ")"
   ]
  },
  {
   "cell_type": "markdown",
   "id": "988f3215",
   "metadata": {},
   "source": [
    "# 图片 Excel生成"
   ]
  },
  {
   "cell_type": "code",
   "execution_count": 15,
   "id": "3025d5b8",
   "metadata": {},
   "outputs": [],
   "source": [
    "try:\n",
    "    folder = Path(\"./output\")\n",
    "    folder.mkdir()\n",
    "except Exception as e:\n",
    "    pass\n",
    "\n",
    "try:\n",
    "    folder = Path(\"./output/KDJ日金\")\n",
    "    folder.mkdir()\n",
    "    folder = Path(\"./output/KDJ日死\")\n",
    "    folder.mkdir()\n",
    "    folder = Path(\"./output/KDJ8\")\n",
    "    folder.mkdir()\n",
    "    folder = Path(\"./output/操作1.1\")\n",
    "    folder.mkdir()\n",
    "    folder = Path(\"./output/操作2\")\n",
    "    folder.mkdir()\n",
    "except Exception as e:\n",
    "    pass"
   ]
  },
  {
   "cell_type": "code",
   "execution_count": 11,
   "id": "14b6e7b1",
   "metadata": {},
   "outputs": [
    {
     "name": "stdout",
     "output_type": "stream",
     "text": [
      "Excel 文件已生成: ./output/KDJ日金/KDJ日金.xlsx\n",
      "所有图片已生成！\n"
     ]
    }
   ],
   "source": [
    "# 今日金叉数据\n",
    "today_gold_txt_path = \"./output/golden_output/today_gold_cross.txt\"\n",
    "today_gold_list = []\n",
    "with open(today_gold_txt_path, \"r\") as file:\n",
    "    for line in file:\n",
    "        stock_code = line.strip()\n",
    "        today_gold_list.append(stock_code)\n",
    "\n",
    "# KDJ日金 文件生成\n",
    "kdj_res = []\n",
    "for stock_code in gold_stock_list:\n",
    "    condition1 = stock_code not in gold_to_del_stock_list # 周死\n",
    "    condition2 = stock_code not in gold_to_move_day_death_stock_list # 日死\n",
    "    condition3 = stock_code not in gold_to_move_8_stock_list #拐头\n",
    "    if condition1 and condition2 and condition3:\n",
    "        kdj_res.append(stock_code)\n",
    "\n",
    "# 加入今日金叉数据\n",
    "for stock_code in today_gold_list:\n",
    "    if stock_code not in kdj_res:\n",
    "        kdj_res.append(stock_code)\n",
    "\n",
    "output_file = './output/KDJ日金/KDJ日金.xlsx'\n",
    "common.Final_file.output_excel(kdj_res,output_file,condition='日金')\n",
    "common.Final_file.mk_pic(output_file)  # 生成所有图片"
   ]
  },
  {
   "cell_type": "code",
   "execution_count": 17,
   "id": "576261bc",
   "metadata": {},
   "outputs": [
    {
     "name": "stdout",
     "output_type": "stream",
     "text": [
      "Processed stock codes saved to ./txt_lib/KDJ日金.txt.\n"
     ]
    }
   ],
   "source": [
    "# 覆写KDJ日金txt\n",
    "output_file = \"./txt_lib/KDJ日金.txt\"\n",
    "with open(output_file, \"w\") as outfile1:\n",
    "    for stock_code in kdj_res:\n",
    "        processed_code = stock_code[2:]\n",
    "        outfile1.write(processed_code + \"\\n\")\n",
    "\n",
    "print(f\"Processed stock codes saved to {output_file}.\")"
   ]
  },
  {
   "cell_type": "code",
   "execution_count": 18,
   "id": "88e37e36",
   "metadata": {},
   "outputs": [
    {
     "name": "stdout",
     "output_type": "stream",
     "text": [
      "Excel 文件已生成: ./output/KDJ8/KDJ8.xlsx\n",
      "所有图片已生成！\n",
      "今日KDJ8 txt文件已生成。\n"
     ]
    }
   ],
   "source": [
    "# KDJ8 文件生成\n",
    "\n",
    "# 读取昨日kdj8 txt\n",
    "yest_kdj8_list = []\n",
    "yest_kdj8_path = \"./txt_lib/today_kdj8.txt\"\n",
    "with open(yest_kdj8_path, \"r\") as file:\n",
    "    for line in file:\n",
    "        stock_code = line.strip()\n",
    "        if stock_code.startswith(\"6\"):\n",
    "            processed_code = f\"sh{stock_code}\"\n",
    "        elif stock_code.startswith(\"0\"):\n",
    "            processed_code = f\"sz{stock_code}\"\n",
    "        else:\n",
    "            processed_code = stock_code\n",
    "        yest_kdj8_list.append(processed_code)\n",
    "\n",
    "# 筛出日死代码\n",
    "kdj8_to_move_day_death_stock_list = []\n",
    "kdj8_to_move_day_death_stock_list = common.Final_process.process_stocks(\n",
    "    yest_kdj8_list, mode=\"daily_death\"\n",
    ")\n",
    "\n",
    "# 筛出周死代码\n",
    "kdj8_to_del_stock_list = []\n",
    "kdj8_to_del_stock_list = common.Final_process.process_stocks(\n",
    "    yest_kdj8_list, mode=\"week_death\"\n",
    ")\n",
    "\n",
    "today_kdj8 = []\n",
    "\n",
    "for stock_code in yest_kdj8_list:\n",
    "    condition1 = stock_code not in kdj8_to_del_stock_list # 周死\n",
    "    condition2 = stock_code not in kdj8_to_move_day_death_stock_list # 日死\n",
    "    condition3 = stock_code not in gold_to_move_8_stock_list # 今日\n",
    "    if condition1 and condition2 and condition3:\n",
    "        today_kdj8.append(stock_code)\n",
    "\n",
    "today_kdj8 += gold_to_move_8_stock_list\n",
    "\n",
    "# 最终输出\n",
    "output_file = \"./output/KDJ8/KDJ8.xlsx\"\n",
    "common.Final_file.output_excel(today_kdj8, output_file, condition=\"8\")\n",
    "common.Final_file.mk_pic(output_file)  # 生成所有图片\n",
    "\n",
    "# 生成今日 KDJ8 TXT\n",
    "today_kdj8_txt_path = \"./txt_lib/today_kdj8.txt\"\n",
    "with open(today_kdj8_txt_path, \"w\") as file:\n",
    "    for item in today_kdj8:\n",
    "        file.write(item + \"\\n\")  # 每个元素后加换行符\n",
    "\n",
    "print(\"今日KDJ8 txt文件已生成。\")"
   ]
  },
  {
   "cell_type": "code",
   "execution_count": 19,
   "id": "afcd8f32",
   "metadata": {},
   "outputs": [
    {
     "name": "stdout",
     "output_type": "stream",
     "text": [
      "Excel 文件已生成: ./output/KDJ日死/KDJ日死.xlsx\n",
      "所有图片已生成！\n"
     ]
    }
   ],
   "source": [
    "# KDJ日死 文件生成\n",
    "kdj_death = []\n",
    "\n",
    "# 今日死叉数据\n",
    "today_death_txt_path = \"./output/death_output/today_death_cross.txt\"\n",
    "today_death_list = []\n",
    "with open(today_death_txt_path, \"r\") as file:\n",
    "    for line in file:\n",
    "        stock_code = line.strip()\n",
    "        today_death_list.append(stock_code)\n",
    "\n",
    "for stock_code in death_stock_list:\n",
    "    condition1 = stock_code not in death_to_del_stock_list\n",
    "    condition2 = stock_code not in death_to_op2_list\n",
    "    if condition1 and condition2:\n",
    "        kdj_death.append(stock_code)\n",
    "\n",
    "# 加入今日死叉数据\n",
    "for stock_code in today_death_list:\n",
    "    if stock_code not in kdj_death:\n",
    "        kdj_death.append(stock_code)\n",
    "        \n",
    "# 加入今日kdj8日死数据\n",
    "for stock_code in kdj8_to_move_day_death_stock_list:\n",
    "    if stock_code not in kdj_death:\n",
    "        kdj_death.append(stock_code)\n",
    "\n",
    "output_file = \"./output/KDJ日死/KDJ日死.xlsx\"\n",
    "common.Final_file.output_excel(kdj_death, output_file, condition=\"日死\")\n",
    "common.Final_file.mk_pic(output_file)  # 生成所有图片"
   ]
  },
  {
   "cell_type": "markdown",
   "id": "3f7a0b65",
   "metadata": {},
   "source": [
    "## 操作2"
   ]
  },
  {
   "cell_type": "code",
   "execution_count": null,
   "id": "f0f9617f",
   "metadata": {},
   "outputs": [],
   "source": [
    "# KDJ日死 + 今日是第二根阴线 + 日MACD > 0 → 操作2\n",
    "op2_3 = []\n",
    "op2_3 = common.Final_process.process_stocks(kdj_death, mode=\"op2_3\")"
   ]
  },
  {
   "cell_type": "code",
   "execution_count": null,
   "id": "d5febd49",
   "metadata": {},
   "outputs": [
    {
     "name": "stdout",
     "output_type": "stream",
     "text": [
      "Excel 文件已生成: ./output/操作2/操作2.xlsx\n",
      "所有图片已生成！\n"
     ]
    }
   ],
   "source": [
    "# 输出操作2 Excel 图片\n",
    "op2 = []\n",
    "op2 = death_to_op2_list + death_near_gold_list + op2_3\n",
    "\n",
    "output_file = \"./output/操作2/操作2.xlsx\"\n",
    "common.Final_file.output_excel(op2, output_file, condition=\"bol\")\n",
    "common.Final_file.mk_pic(output_file)  # 生成所有图片"
   ]
  },
  {
   "cell_type": "code",
   "execution_count": 21,
   "id": "e559394a",
   "metadata": {},
   "outputs": [
    {
     "name": "stdout",
     "output_type": "stream",
     "text": [
      "Processed stock codes saved to ./txt_lib/KDJ日死.txt.\n"
     ]
    }
   ],
   "source": [
    "# 覆写KDJ日死txt\n",
    "output_file = \"./txt_lib/KDJ日死.txt\"\n",
    "with open(output_file, \"w\") as outfile1:\n",
    "    for stock_code in kdj_death:\n",
    "        processed_code = stock_code[2:]\n",
    "        outfile1.write(processed_code + \"\\n\")\n",
    "\n",
    "print(f\"Processed stock codes saved to {output_file}.\")"
   ]
  },
  {
   "cell_type": "markdown",
   "id": "75231615",
   "metadata": {},
   "source": [
    "## 操作1.1"
   ]
  },
  {
   "cell_type": "code",
   "execution_count": 12,
   "id": "266ec6b0",
   "metadata": {},
   "outputs": [],
   "source": [
    "## 处理 KDJ日金 + Bol → 操作1.1\n",
    "gold_to_1_1_list = []\n",
    "gold_to_1_1_list = common.Final_process.process_stocks(kdj_res, mode=\"bol\")"
   ]
  },
  {
   "cell_type": "code",
   "execution_count": null,
   "id": "cd02baf0",
   "metadata": {},
   "outputs": [],
   "source": [
    "## 处理 KDJ日金 + 阴线 + 周kdj → 操作1.1\n",
    "op1_1_cond3 = []\n",
    "op1_1_cond3 = common.Final_process.process_stocks(kdj_res, mode=\"阴线_周kdj\")"
   ]
  },
  {
   "cell_type": "code",
   "execution_count": null,
   "id": "2a7dddbc",
   "metadata": {},
   "outputs": [
    {
     "name": "stdout",
     "output_type": "stream",
     "text": [
      "Excel 文件已生成: ./output/操作1.1/操作1.1.xlsx\n",
      "所有图片已生成！\n"
     ]
    }
   ],
   "source": [
    "# 输出操作1.1 Excel 图片\n",
    "op1_1 = []\n",
    "op1_1 = to_perfect_stock_list + gold_to_1_1_list + op1_1_cond3\n",
    "output_file = \"./output/操作1.1/操作1.1.xlsx\"\n",
    "\n",
    "common.Final_file.output_excel(op1_1, output_file, condition=\"bol\")\n",
    "common.Final_file.mk_pic(output_file)  # 生成所有图片"
   ]
  },
  {
   "cell_type": "code",
   "execution_count": null,
   "id": "4c253f57",
   "metadata": {},
   "outputs": [],
   "source": []
  },
  {
   "cell_type": "markdown",
   "id": "4492a896",
   "metadata": {},
   "source": [
    "## TEST"
   ]
  },
  {
   "cell_type": "code",
   "execution_count": null,
   "id": "a600daae",
   "metadata": {},
   "outputs": [
    {
     "data": {
      "text/plain": [
       "<module 'calculate' from 'e:\\\\GRADUATE\\\\project\\\\stock_info\\\\calculate.py'>"
      ]
     },
     "execution_count": 71,
     "metadata": {},
     "output_type": "execute_result"
    }
   ],
   "source": [
    "from importlib import reload\n",
    "reload(calculate)\n",
    "reload(common)"
   ]
  },
  {
   "cell_type": "code",
   "execution_count": 4,
   "id": "7f20dbab",
   "metadata": {},
   "outputs": [],
   "source": [
    "stock_code = \"sh600667\"\n",
    "current_date = datetime.now()\n",
    "end_date = current_date\n",
    "\n",
    "df = ak.stock_zh_a_daily(\n",
    "    symbol=stock_code,\n",
    "    start_date=\"2015-01-01\",\n",
    "    end_date=\"2025-05-24\",\n",
    "    adjust=\"qfq\",\n",
    ")  # qfq=前复权"
   ]
  },
  {
   "cell_type": "code",
   "execution_count": 5,
   "id": "3572228a",
   "metadata": {},
   "outputs": [
    {
     "data": {
      "text/html": [
       "<div>\n",
       "<style scoped>\n",
       "    .dataframe tbody tr th:only-of-type {\n",
       "        vertical-align: middle;\n",
       "    }\n",
       "\n",
       "    .dataframe tbody tr th {\n",
       "        vertical-align: top;\n",
       "    }\n",
       "\n",
       "    .dataframe thead th {\n",
       "        text-align: right;\n",
       "    }\n",
       "</style>\n",
       "<table border=\"1\" class=\"dataframe\">\n",
       "  <thead>\n",
       "    <tr style=\"text-align: right;\">\n",
       "      <th></th>\n",
       "      <th>date</th>\n",
       "      <th>open</th>\n",
       "      <th>high</th>\n",
       "      <th>low</th>\n",
       "      <th>close</th>\n",
       "      <th>volume</th>\n",
       "      <th>amount</th>\n",
       "      <th>outstanding_share</th>\n",
       "      <th>turnover</th>\n",
       "      <th>EMA_short</th>\n",
       "      <th>EMA_long</th>\n",
       "      <th>DIF</th>\n",
       "      <th>DEA</th>\n",
       "      <th>MACD_hist</th>\n",
       "      <th>MACD_Golden</th>\n",
       "      <th>MACD_Death</th>\n",
       "      <th>K</th>\n",
       "      <th>D</th>\n",
       "      <th>J</th>\n",
       "    </tr>\n",
       "  </thead>\n",
       "  <tbody>\n",
       "    <tr>\n",
       "      <th>2388</th>\n",
       "      <td>2025-05-15</td>\n",
       "      <td>6.54</td>\n",
       "      <td>6.57</td>\n",
       "      <td>6.46</td>\n",
       "      <td>6.47</td>\n",
       "      <td>15222000.0</td>\n",
       "      <td>98853802.0</td>\n",
       "      <td>2.106190e+09</td>\n",
       "      <td>0.007227</td>\n",
       "      <td>6.502662</td>\n",
       "      <td>6.548525</td>\n",
       "      <td>-0.045863</td>\n",
       "      <td>-0.084225</td>\n",
       "      <td>0.076724</td>\n",
       "      <td>False</td>\n",
       "      <td>False</td>\n",
       "      <td>62.581</td>\n",
       "      <td>67.199</td>\n",
       "      <td>53.345</td>\n",
       "    </tr>\n",
       "    <tr>\n",
       "      <th>2389</th>\n",
       "      <td>2025-05-16</td>\n",
       "      <td>6.45</td>\n",
       "      <td>6.51</td>\n",
       "      <td>6.42</td>\n",
       "      <td>6.43</td>\n",
       "      <td>14843328.0</td>\n",
       "      <td>95967118.0</td>\n",
       "      <td>2.106190e+09</td>\n",
       "      <td>0.007047</td>\n",
       "      <td>6.491483</td>\n",
       "      <td>6.539745</td>\n",
       "      <td>-0.048262</td>\n",
       "      <td>-0.077033</td>\n",
       "      <td>0.057541</td>\n",
       "      <td>False</td>\n",
       "      <td>False</td>\n",
       "      <td>49.564</td>\n",
       "      <td>61.321</td>\n",
       "      <td>26.050</td>\n",
       "    </tr>\n",
       "    <tr>\n",
       "      <th>2390</th>\n",
       "      <td>2025-05-19</td>\n",
       "      <td>6.44</td>\n",
       "      <td>6.50</td>\n",
       "      <td>6.37</td>\n",
       "      <td>6.49</td>\n",
       "      <td>13809528.0</td>\n",
       "      <td>89148491.0</td>\n",
       "      <td>2.106190e+09</td>\n",
       "      <td>0.006557</td>\n",
       "      <td>6.491255</td>\n",
       "      <td>6.536061</td>\n",
       "      <td>-0.044806</td>\n",
       "      <td>-0.070587</td>\n",
       "      <td>0.051563</td>\n",
       "      <td>False</td>\n",
       "      <td>False</td>\n",
       "      <td>45.543</td>\n",
       "      <td>56.062</td>\n",
       "      <td>24.505</td>\n",
       "    </tr>\n",
       "    <tr>\n",
       "      <th>2391</th>\n",
       "      <td>2025-05-20</td>\n",
       "      <td>6.48</td>\n",
       "      <td>6.52</td>\n",
       "      <td>6.46</td>\n",
       "      <td>6.51</td>\n",
       "      <td>12399034.0</td>\n",
       "      <td>80621601.0</td>\n",
       "      <td>2.106190e+09</td>\n",
       "      <td>0.005887</td>\n",
       "      <td>6.494139</td>\n",
       "      <td>6.534130</td>\n",
       "      <td>-0.039991</td>\n",
       "      <td>-0.064468</td>\n",
       "      <td>0.048954</td>\n",
       "      <td>False</td>\n",
       "      <td>False</td>\n",
       "      <td>44.945</td>\n",
       "      <td>52.356</td>\n",
       "      <td>30.123</td>\n",
       "    </tr>\n",
       "    <tr>\n",
       "      <th>2392</th>\n",
       "      <td>2025-05-21</td>\n",
       "      <td>6.50</td>\n",
       "      <td>6.51</td>\n",
       "      <td>6.44</td>\n",
       "      <td>6.45</td>\n",
       "      <td>12238891.0</td>\n",
       "      <td>79134212.0</td>\n",
       "      <td>2.106190e+09</td>\n",
       "      <td>0.005811</td>\n",
       "      <td>6.487348</td>\n",
       "      <td>6.527898</td>\n",
       "      <td>-0.040550</td>\n",
       "      <td>-0.059685</td>\n",
       "      <td>0.038269</td>\n",
       "      <td>False</td>\n",
       "      <td>False</td>\n",
       "      <td>38.297</td>\n",
       "      <td>47.670</td>\n",
       "      <td>19.551</td>\n",
       "    </tr>\n",
       "    <tr>\n",
       "      <th>2393</th>\n",
       "      <td>2025-05-22</td>\n",
       "      <td>6.43</td>\n",
       "      <td>6.51</td>\n",
       "      <td>6.37</td>\n",
       "      <td>6.39</td>\n",
       "      <td>15402640.0</td>\n",
       "      <td>99016405.0</td>\n",
       "      <td>2.106190e+09</td>\n",
       "      <td>0.007313</td>\n",
       "      <td>6.472372</td>\n",
       "      <td>6.517684</td>\n",
       "      <td>-0.045312</td>\n",
       "      <td>-0.056810</td>\n",
       "      <td>0.022996</td>\n",
       "      <td>False</td>\n",
       "      <td>False</td>\n",
       "      <td>27.614</td>\n",
       "      <td>40.984</td>\n",
       "      <td>0.874</td>\n",
       "    </tr>\n",
       "    <tr>\n",
       "      <th>2394</th>\n",
       "      <td>2025-05-23</td>\n",
       "      <td>6.37</td>\n",
       "      <td>6.45</td>\n",
       "      <td>6.30</td>\n",
       "      <td>6.30</td>\n",
       "      <td>13551342.0</td>\n",
       "      <td>86363068.0</td>\n",
       "      <td>2.106190e+09</td>\n",
       "      <td>0.006434</td>\n",
       "      <td>6.445853</td>\n",
       "      <td>6.501559</td>\n",
       "      <td>-0.055706</td>\n",
       "      <td>-0.056589</td>\n",
       "      <td>0.001766</td>\n",
       "      <td>False</td>\n",
       "      <td>False</td>\n",
       "      <td>18.410</td>\n",
       "      <td>33.460</td>\n",
       "      <td>-11.690</td>\n",
       "    </tr>\n",
       "  </tbody>\n",
       "</table>\n",
       "</div>"
      ],
      "text/plain": [
       "            date  open  high   low  close      volume      amount  \\\n",
       "2388  2025-05-15  6.54  6.57  6.46   6.47  15222000.0  98853802.0   \n",
       "2389  2025-05-16  6.45  6.51  6.42   6.43  14843328.0  95967118.0   \n",
       "2390  2025-05-19  6.44  6.50  6.37   6.49  13809528.0  89148491.0   \n",
       "2391  2025-05-20  6.48  6.52  6.46   6.51  12399034.0  80621601.0   \n",
       "2392  2025-05-21  6.50  6.51  6.44   6.45  12238891.0  79134212.0   \n",
       "2393  2025-05-22  6.43  6.51  6.37   6.39  15402640.0  99016405.0   \n",
       "2394  2025-05-23  6.37  6.45  6.30   6.30  13551342.0  86363068.0   \n",
       "\n",
       "      outstanding_share  turnover  EMA_short  EMA_long       DIF       DEA  \\\n",
       "2388       2.106190e+09  0.007227   6.502662  6.548525 -0.045863 -0.084225   \n",
       "2389       2.106190e+09  0.007047   6.491483  6.539745 -0.048262 -0.077033   \n",
       "2390       2.106190e+09  0.006557   6.491255  6.536061 -0.044806 -0.070587   \n",
       "2391       2.106190e+09  0.005887   6.494139  6.534130 -0.039991 -0.064468   \n",
       "2392       2.106190e+09  0.005811   6.487348  6.527898 -0.040550 -0.059685   \n",
       "2393       2.106190e+09  0.007313   6.472372  6.517684 -0.045312 -0.056810   \n",
       "2394       2.106190e+09  0.006434   6.445853  6.501559 -0.055706 -0.056589   \n",
       "\n",
       "      MACD_hist  MACD_Golden  MACD_Death       K       D       J  \n",
       "2388   0.076724        False       False  62.581  67.199  53.345  \n",
       "2389   0.057541        False       False  49.564  61.321  26.050  \n",
       "2390   0.051563        False       False  45.543  56.062  24.505  \n",
       "2391   0.048954        False       False  44.945  52.356  30.123  \n",
       "2392   0.038269        False       False  38.297  47.670  19.551  \n",
       "2393   0.022996        False       False  27.614  40.984   0.874  \n",
       "2394   0.001766        False       False  18.410  33.460 -11.690  "
      ]
     },
     "execution_count": 5,
     "metadata": {},
     "output_type": "execute_result"
    }
   ],
   "source": [
    "df = calculate.MACD.calculate_macd(df)\n",
    "df = calculate.KDJ.calculate_kdj(df)\n",
    "\n",
    "df.tail(7)"
   ]
  }
 ],
 "metadata": {
  "kernelspec": {
   "display_name": "Python 3",
   "language": "python",
   "name": "python3"
  },
  "language_info": {
   "codemirror_mode": {
    "name": "ipython",
    "version": 3
   },
   "file_extension": ".py",
   "mimetype": "text/x-python",
   "name": "python",
   "nbconvert_exporter": "python",
   "pygments_lexer": "ipython3",
   "version": "3.10.11"
  }
 },
 "nbformat": 4,
 "nbformat_minor": 5
}
