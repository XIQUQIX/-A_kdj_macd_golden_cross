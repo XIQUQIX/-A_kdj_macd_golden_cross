{
 "cells": [
  {
   "cell_type": "markdown",
   "id": "a6d48a3c",
   "metadata": {},
   "source": [
    "## Tom DeMark 九转股"
   ]
  },
  {
   "cell_type": "code",
   "execution_count": 1,
   "id": "d640f9ec",
   "metadata": {},
   "outputs": [],
   "source": [
    "import akshare as ak\n",
    "from datetime import datetime, timedelta\n",
    "from pathlib import Path\n",
    "import pandas as pd\n",
    "from pandas import DataFrame, Series\n",
    "from concurrent.futures import ThreadPoolExecutor, as_completed\n",
    "import time\n",
    "import random\n",
    "import pickle\n",
    "import gc\n",
    "import psutil\n",
    "\n",
    "import yfinance as yf\n",
    "\n",
    "import common\n",
    "import calculate"
   ]
  },
  {
   "cell_type": "code",
   "execution_count": 2,
   "id": "78a15853",
   "metadata": {},
   "outputs": [],
   "source": [
    "# akshare\n",
    "file_name = \"./txt_lib/stock_code.txt\"\n",
    "with open(file_name, \"r\") as file:\n",
    "    stock_list = [line.strip() for line in file if line.strip()]\n",
    "\n",
    "# # 限制股票数量\n",
    "# stock_list = stock_list[:500]\n",
    "\n",
    "# 当前日期\n",
    "current_date = datetime.now()"
   ]
  },
  {
   "cell_type": "code",
   "execution_count": 3,
   "id": "e8098879",
   "metadata": {},
   "outputs": [
    {
     "name": "stdout",
     "output_type": "stream",
     "text": [
      "Batch 1 completed, memory: 7351.54 MB\n",
      "Batch 2 completed, memory: 7353.17 MB\n",
      "Batch 3 completed, memory: 7352.45 MB\n",
      "Batch 4 completed, memory: 7351.86 MB\n",
      "Batch 5 completed, memory: 7351.13 MB\n",
      "Batch 6 completed, memory: 7353.10 MB\n",
      "Batch 7 completed, memory: 7353.38 MB\n",
      "Batch 8 completed, memory: 7352.05 MB\n",
      "Batch 9 completed, memory: 7353.81 MB\n",
      "Batch 10 completed, memory: 7353.23 MB\n",
      "Batch 11 completed, memory: 7351.38 MB\n",
      "Batch 12 completed, memory: 7353.79 MB\n",
      "Batch 13 completed, memory: 7353.42 MB\n",
      "Batch 14 completed, memory: 7352.38 MB\n",
      "Batch 15 completed, memory: 7350.27 MB\n",
      "Batch 16 completed, memory: 7350.86 MB\n",
      "Batch 17 completed, memory: 7350.27 MB\n",
      "Batch 18 completed, memory: 7353.90 MB\n",
      "Batch 19 completed, memory: 7350.42 MB\n",
      "Batch 20 completed, memory: 7350.49 MB\n",
      "Batch 21 completed, memory: 7352.95 MB\n",
      "Batch 22 completed, memory: 7352.65 MB\n",
      "Batch 23 completed, memory: 7354.24 MB\n",
      "Batch 24 completed, memory: 7353.67 MB\n",
      "Batch 25 completed, memory: 7353.96 MB\n",
      "Batch 26 completed, memory: 7353.14 MB\n",
      "Batch 27 completed, memory: 7353.23 MB\n",
      "Batch 28 completed, memory: 7354.03 MB\n",
      "Batch 29 completed, memory: 7353.71 MB\n",
      "Batch 30 completed, memory: 7352.16 MB\n",
      "Batch 31 completed, memory: 7351.20 MB\n",
      "Batch 32 completed, memory: 7353.88 MB\n",
      "Batch 33 completed, memory: 7353.71 MB\n",
      "Batch 34 completed, memory: 7353.37 MB\n",
      "Batch 35 completed, memory: 7353.79 MB\n",
      "Batch 36 completed, memory: 7354.20 MB\n",
      "Batch 37 completed, memory: 7355.14 MB\n",
      "Batch 38 completed, memory: 7353.86 MB\n",
      "Batch 39 completed, memory: 7353.25 MB\n",
      "Batch 40 completed, memory: 7353.68 MB\n",
      "Batch 41 completed, memory: 7354.34 MB\n",
      "Batch 42 completed, memory: 7353.91 MB\n",
      "Batch 43 completed, memory: 7351.18 MB\n",
      "Batch 44 completed, memory: 7352.98 MB\n",
      "Batch 45 completed, memory: 7351.88 MB\n",
      "Batch 46 completed, memory: 7351.56 MB\n",
      "Batch 47 completed, memory: 7351.04 MB\n",
      "Batch 48 completed, memory: 7353.20 MB\n",
      "Batch 49 completed, memory: 7352.66 MB\n",
      "Batch 50 completed, memory: 7350.93 MB\n",
      "Batch 51 completed, memory: 7350.79 MB\n"
     ]
    }
   ],
   "source": [
    "nine_list = []\n",
    "nine_list = common.Final_process.process_stocks(stock_list, mode=\"nine\")"
   ]
  },
  {
   "cell_type": "code",
   "execution_count": null,
   "id": "d46f2b9c",
   "metadata": {},
   "outputs": [
    {
     "name": "stdout",
     "output_type": "stream",
     "text": [
      "Batch 1 completed, memory: 7350.98 MB\n"
     ]
    }
   ],
   "source": [
    "# 已知九转股list\n",
    "cur_list = [i[0] for i in nine_list]\n",
    "\n",
    "# 周KDJ 不死叉 or 周macd dif > 0 or 月kdj 不死叉 or 月macd dif > 0\n",
    "# +\n",
    "# 中轨向上 == 今日中轨大于昨日\n",
    "# +\n",
    "# 昨日最高价 > 今日最高价\n",
    "final_nine_list = []\n",
    "final_nine_list = common.Final_process.process_stocks(cur_list, mode=\"nine_several_condition\")\n",
    "\n",
    "# 利润 > 0 -> 保留\n",
    "# 利润 < 0 + 周&月macd dif > 0 -> 保留\n",
    "profit_list = []\n",
    "profit_list = common.Final_process.process_stocks(final_nine_list,mode=\"profit_check\")"
   ]
  },
  {
   "cell_type": "code",
   "execution_count": 5,
   "id": "7d14b97e",
   "metadata": {},
   "outputs": [
    {
     "name": "stdout",
     "output_type": "stream",
     "text": [
      "Excel 文件已生成: ./output/nine/nine.xlsx\n",
      "所有图片已生成！\n"
     ]
    }
   ],
   "source": [
    "common.Final_file.clean_folder(\"./output/nine\") # 清空nine文件夹\n",
    "\n",
    "# Excel & 图片生成\n",
    "output_file = \"./output/nine/nine.xlsx\"\n",
    "common.Final_file.output_excel(final_nine_list, output_file, condition=\"九转股\")\n",
    "common.Final_file.mk_pic(output_file)  # 生成所有图片"
   ]
  },
  {
   "cell_type": "markdown",
   "id": "a17b4f39",
   "metadata": {},
   "source": [
    "## TEST"
   ]
  },
  {
   "cell_type": "code",
   "execution_count": 4,
   "id": "5dc18362",
   "metadata": {},
   "outputs": [
    {
     "data": {
      "text/plain": [
       "<module 'common' from 'e:\\\\GRADUATE\\\\project\\\\stock_info\\\\common.py'>"
      ]
     },
     "execution_count": 4,
     "metadata": {},
     "output_type": "execute_result"
    }
   ],
   "source": [
    "from importlib import reload\n",
    "reload(calculate)\n",
    "reload(common)"
   ]
  },
  {
   "cell_type": "code",
   "execution_count": 2,
   "id": "09d49dad",
   "metadata": {},
   "outputs": [],
   "source": [
    "stock_code = \"sh600007\"\n",
    "current_date = datetime.now()\n",
    "\n",
    "# 获取股票日线数据\n",
    "df = ak.stock_zh_a_daily(\n",
    "    symbol=stock_code,\n",
    "    start_date=\"2020-01-01\",\n",
    "    end_date=current_date.strftime(\"%Y-%m-%d\"),\n",
    ")"
   ]
  },
  {
   "cell_type": "code",
   "execution_count": 5,
   "id": "0c27d875",
   "metadata": {},
   "outputs": [],
   "source": [
    "week_df = calculate.Reshape_data.get_week_df(df)\n",
    "month_df = calculate.Reshape_data.get_month_df(df)\n",
    "\n",
    "# condition1\n",
    "week_kdj_df = calculate.KDJ.calculate_kdj(week_df)\n",
    "week_kdj_golden = calculate.KDJ.find_kdj_golden_cross(week_kdj_df)"
   ]
  },
  {
   "cell_type": "code",
   "execution_count": null,
   "id": "253616a9",
   "metadata": {},
   "outputs": [],
   "source": [
    "import akshare as ak\n",
    "\n",
    "stock_code = \"sh600066\"  # 以贵州茅台为例\n",
    "financial_abstract = ak.stock_financial_abstract_ths(symbol=stock_code[2:])\n",
    "# 净利润 为 str (\"7.55亿\")————去除最后一位,转换成float\n",
    "net_profit = float(financial_abstract[\"净利润\"].iloc[0][:-1])"
   ]
  },
  {
   "cell_type": "code",
   "execution_count": 57,
   "id": "3c2610ac",
   "metadata": {},
   "outputs": [
    {
     "data": {
      "text/plain": [
       "'7.55亿'"
      ]
     },
     "execution_count": 57,
     "metadata": {},
     "output_type": "execute_result"
    }
   ],
   "source": [
    "financial_abstract[\"净利润\"].iloc[0]"
   ]
  },
  {
   "cell_type": "code",
   "execution_count": 60,
   "id": "1391a7da",
   "metadata": {},
   "outputs": [
    {
     "data": {
      "text/plain": [
       "7.55"
      ]
     },
     "execution_count": 60,
     "metadata": {},
     "output_type": "execute_result"
    }
   ],
   "source": [
    "float(financial_abstract[\"净利润\"].iloc[0][:-1])"
   ]
  }
 ],
 "metadata": {
  "kernelspec": {
   "display_name": "Python 3",
   "language": "python",
   "name": "python3"
  },
  "language_info": {
   "codemirror_mode": {
    "name": "ipython",
    "version": 3
   },
   "file_extension": ".py",
   "mimetype": "text/x-python",
   "name": "python",
   "nbconvert_exporter": "python",
   "pygments_lexer": "ipython3",
   "version": "3.10.11"
  }
 },
 "nbformat": 4,
 "nbformat_minor": 5
}
