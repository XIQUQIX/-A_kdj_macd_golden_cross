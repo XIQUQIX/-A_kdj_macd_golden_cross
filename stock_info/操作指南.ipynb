## 文件操作指南

### get_today_data
- 运行周期: 每日

- 目标: 

    - 取得18年1月1日至今每日股票信。含最高价，最低价，开盘价，收盘价，交易量。
    

- 操作: 

    1. Run All

    2. 运行完成后，restart清空内存

- 异常分析&处理:

    - 大量股票数据未获取————过一小时后重试 (akshare服务器股票信息未更新)

- 输出位置&文件:

    txt_lib/daily_df.pkl + (pickle)

### pioneer_1
- 运行周期: 每周一

- 目标: 
    - 先锋一号

- 操作:

    1. Run All

    2. 运行完成后，restart清空内存

- 异常分析&处理:

    大量股票未获取————请重新运行get_today_data (get_today_data 运行有误)

- 输出位置&文件:

    output/pioneer + (Excel + png)

### TD
- 运行周期: 每日

- 目标:

    - 获取九转股

- 操作:

    1. Run All

    2. 运行完成后，restart清空内存

- 异常分析&处理:

    - 大量股票未获取————请重新运行get_today_data (get_today_data 运行有误)

- 输出位置&文件:

    output/nine + (Excel + png)

### kdj整合
- 运行周期: 每日

- 目标:

    - 获取 kdj金叉库，kdj死叉库，kdj拐头，操作1.1，操作2

- 操作:

    1. Run All

    2. 运行完成后，restart清空内存

- 异常分析&处理:

    - 大量股票未获取————请重新运行get_today_data (get_today_data 运行有误)

- 输出位置:

    kdj金叉库——output/KDJ日金 + (Excel + png); txt_lib/KDJ日金.txt (txt)

    kdj死叉库——output/KDJ日死 + (Excel + png); txt_lib/KDJ日死.txt (txt)

    kdj拐头——output/KDJ8 + (Excel + png)

    操作1.1——output/操作1.1 + (Excel + png)

    操作2——output/操作2 + (Excel + png)

### macd_dif_ak
- 运行周期: 每月1号，15号
- 目标:

    - 获取月macd库

- 操作:

    1. Run All

    2. 运行完成后，restart清空内存

- 异常分析&处理:

    - 大量股票未获取————请重新运行get_today_data (get_today_data 运行有误)

- 输出位置:

    粗选——output/month_macd

    精选——output/month_macd1.1

### dividend
- 运行周期: 每月1号，15号
- 目标:

    - 获取分红股票

- 操作:

    1. Run All

    2. 运行完成后，restart清空内存

- 异常分析&处理:

    - 大量股票未获取————过一小时后重试 (akshare服务器股票信息未更新)

- 输出位置:

    output/dividend
