{
 "cells": [
  {
   "cell_type": "markdown",
   "id": "6fcb296b",
   "metadata": {},
   "source": [
    "# 按需分类 KDJ日金叉 & KDJ日死叉 代码仓库"
   ]
  },
  {
   "cell_type": "code",
   "execution_count": 31,
   "id": "31a5231e",
   "metadata": {},
   "outputs": [
    {
     "name": "stdout",
     "output_type": "stream",
     "text": [
      "Processed stock codes saved to ./txt_lib/yest_KDJ日金.txt.\n",
      "Processed stock codes saved to ./txt_lib/yest_KDJ日死.txt.\n"
     ]
    }
   ],
   "source": [
    "import calculate\n",
    "import common\n",
    "from pathlib import Path\n",
    "\n",
    "# 给原始股票代码加上抬头；'600001' → 'sh600001'\n",
    "def add_capital(input_file: str, output_file: str):\n",
    "    with open(input_file, \"r\") as infile, open(output_file, \"w\") as outfile:\n",
    "        for line in infile:\n",
    "            stock_code = line.strip()\n",
    "            if stock_code.startswith(\"6\"):\n",
    "                processed_code = f\"sh{stock_code}\"\n",
    "            else:\n",
    "                processed_code = f\"sz{stock_code}\"\n",
    "            outfile.write(processed_code + \"\\n\")\n",
    "\n",
    "    print(f\"Processed stock codes saved to {output_file}.\")\n",
    "\n",
    "# 复制一份昨日txt 留档\n",
    "def copy_yest_txt(input_file: str, output_file: str):\n",
    "    with open(input_file, \"r\") as infile, open(output_file, \"w\") as outfile:\n",
    "        for line in infile:\n",
    "            stock_code = line.strip()\n",
    "            outfile.write(stock_code + \"\\n\")\n",
    "    print(f\"Processed stock codes saved to {output_file}.\")\n",
    "\n",
    "\n",
    "dict_filename = \"./txt_lib/stock_name.txt\"\n",
    "stock_dict = common.Initialization.generate_stock_dict(dict_filename)\n",
    "\n",
    "input_file = \"./txt_lib/KDJ日金.txt\"\n",
    "output_file = \"./txt_lib/yest_KDJ日金.txt\"\n",
    "copy_yest_txt(input_file,output_file)\n",
    "input_file = \"./txt_lib/KDJ日死.txt\"\n",
    "output_file = \"./txt_lib/yest_KDJ日死.txt\"\n",
    "copy_yest_txt(input_file, output_file)\n",
    "\n",
    "# 清理两个文件夹\n",
    "common.Final_file.clean_folder(\"./output/KDJ日金\")\n",
    "common.Final_file.clean_folder(\"./output/KDJ日死\")\n",
    "common.Final_file.clean_folder(\"./output/KDJ8\")"
   ]
  },
  {
   "cell_type": "markdown",
   "id": "0b7da5f5",
   "metadata": {},
   "source": [
    "## 处理 KDJ日金 + 周死叉 → 弃"
   ]
  },
  {
   "cell_type": "code",
   "execution_count": 32,
   "id": "27f60167",
   "metadata": {},
   "outputs": [
    {
     "name": "stdout",
     "output_type": "stream",
     "text": [
      "Processed stock codes saved to ./txt_lib/processed_KDJ日金.txt.\n"
     ]
    }
   ],
   "source": [
    "# 读取原始文件并处理\n",
    "input_file = \"./txt_lib/KDJ日金.txt\"\n",
    "output_file = \"./txt_lib/processed_KDJ日金.txt\"\n",
    "add_capital(input_file, output_file)\n",
    "\n",
    "file_name = output_file\n",
    "with open(file_name, \"r\") as file:\n",
    "    gold_stock_list = [line.strip() for line in file if line.strip()]\n",
    "\n",
    "gold_to_del_stock_list = []\n",
    "gold_to_del_stock_list = common.Final_process.process_stocks(gold_stock_list, mode=\"week_death\")\n",
    "# print(\"KDJ日金 因 周死叉 要删除的股票\")\n",
    "# print(f\"总计股票数量:{len(gold_to_del_stock_list)}。\")\n",
    "\n",
    "# for stock_code in gold_to_del_stock_list:\n",
    "#     cur_stock_code = stock_code[2:]\n",
    "#     stock_name = stock_dict.get(cur_stock_code, \"未知\")  # 获取股票名称\n",
    "#     print(f\"{cur_stock_code}:{stock_name}\")"
   ]
  },
  {
   "cell_type": "markdown",
   "id": "fc6ba0f8",
   "metadata": {},
   "source": [
    "## 处理 KDJ日死 + 周死叉 → 弃"
   ]
  },
  {
   "cell_type": "code",
   "execution_count": 33,
   "id": "7def2c8c",
   "metadata": {},
   "outputs": [
    {
     "name": "stdout",
     "output_type": "stream",
     "text": [
      "Processed stock codes saved to ./txt_lib/processed_KDJ日死.txt.\n"
     ]
    }
   ],
   "source": [
    "# 读取原始文件并处理\n",
    "input_file = \"./txt_lib/KDJ日死.txt\"\n",
    "output_file = \"./txt_lib/processed_KDJ日死.txt\"\n",
    "add_capital(input_file, output_file)\n",
    "\n",
    "file_name = output_file\n",
    "with open(file_name, \"r\") as file:\n",
    "    death_stock_list = [line.strip() for line in file if line.strip()]\n",
    "\n",
    "death_to_del_stock_list = []\n",
    "death_to_del_stock_list = common.Final_process.process_stocks(death_stock_list, mode=\"week_death\")\n",
    "\n",
    "# print(\"KDJ日死 因 周死叉 要删除的股票\")\n",
    "# print(f\"总计股票数量:{len(death_to_del_stock_list)}。\")\n",
    "\n",
    "# for stock_code in death_to_del_stock_list:\n",
    "#     cur_stock_code = stock_code[2:]\n",
    "#     stock_name = stock_dict.get(cur_stock_code, \"未知\")  # 获取股票名称\n",
    "#     print(f\"{cur_stock_code}:{stock_name}\")"
   ]
  },
  {
   "cell_type": "markdown",
   "id": "446983fb",
   "metadata": {},
   "source": [
    "## 处理 KDJ日金 + 日死 → KDJ日死"
   ]
  },
  {
   "cell_type": "code",
   "execution_count": 34,
   "id": "a1b64bb9",
   "metadata": {},
   "outputs": [],
   "source": [
    "gold_to_move_day_death_stock_list = []\n",
    "gold_to_move_day_death_stock_list = common.Final_process.process_stocks(gold_stock_list, mode=\"daily_death\")\n",
    "\n",
    "# print(\"KDJ日金 因 日死叉 要转移至 KDJ日死 的股票\")\n",
    "# print(f\"总计股票数量:{len(gold_to_move_day_death_stock_list)}。\")\n",
    "\n",
    "# for stock_code in gold_to_move_day_death_stock_list:\n",
    "#     cur_stock_code = stock_code[2:]\n",
    "#     stock_name = stock_dict.get(cur_stock_code, \"未知\")  # 获取股票名称\n",
    "#     print(f\"{cur_stock_code}:{stock_name}\")"
   ]
  },
  {
   "cell_type": "markdown",
   "id": "04e2cb5b",
   "metadata": {},
   "source": [
    "## 处理 KDJ日金 + J线拐头 → KDJ8"
   ]
  },
  {
   "cell_type": "code",
   "execution_count": 35,
   "id": "e35f244a",
   "metadata": {},
   "outputs": [],
   "source": [
    "gold_to_move_8_stock_list = []\n",
    "gold_to_move_8_stock_list = common.Final_process.process_stocks(\n",
    "    gold_stock_list, mode=\"J_turn_around\"\n",
    ")\n",
    "# print(\"KDJ日金 因 J线掉头 要转移至 KDJ8 的股票。\")\n",
    "# print(f\"总计股票数量:{len(gold_to_move_8_stock_list)}。\")\n",
    "\n",
    "# for stock_code in gold_to_move_8_stock_list:\n",
    "#     # 不能在 日死叉 list中\n",
    "#     if stock_code not in gold_to_move_day_death_stock_list:\n",
    "#         cur_stock_code = stock_code[2:]\n",
    "#         stock_name = stock_dict.get(cur_stock_code, \"未知\")  # 获取股票名称\n",
    "#         print(f\"{cur_stock_code}:{stock_name}\")"
   ]
  },
  {
   "cell_type": "code",
   "execution_count": 36,
   "id": "bdecf250",
   "metadata": {},
   "outputs": [],
   "source": [
    "try:\n",
    "    folder = Path(\"./output\")\n",
    "    folder.mkdir()\n",
    "except Exception as e:\n",
    "    pass\n",
    "\n",
    "try:\n",
    "    folder = Path(\"./output/KDJ日金\")\n",
    "    folder.mkdir()\n",
    "    folder = Path(\"./output/KDJ日死\")\n",
    "    folder.mkdir()\n",
    "    folder = Path(\"./output/KDJ8\")\n",
    "    folder.mkdir()\n",
    "    folder = Path(\"./output/操作1.1\")\n",
    "    folder.mkdir()\n",
    "except Exception as e:\n",
    "    pass"
   ]
  },
  {
   "cell_type": "code",
   "execution_count": 37,
   "id": "4a7fe1e5",
   "metadata": {},
   "outputs": [
    {
     "name": "stdout",
     "output_type": "stream",
     "text": [
      "Excel 文件已生成: ./output/KDJ日金/KDJ日金.xlsx\n",
      "所有图片已生成！\n"
     ]
    }
   ],
   "source": [
    "# 今日金叉数据\n",
    "today_gold_txt_path = \"./output/golden_output/today_gold_cross.txt\"\n",
    "today_gold_list = []\n",
    "with open(today_gold_txt_path, \"r\") as file:\n",
    "    for line in file:\n",
    "        stock_code = line.strip()\n",
    "        today_gold_list.append(stock_code)\n",
    "\n",
    "# KDJ日金 文件生成\n",
    "kdj_res = []\n",
    "for stock_code in gold_stock_list:\n",
    "    condition1 = stock_code not in gold_to_del_stock_list # 周死\n",
    "    condition2 = stock_code not in gold_to_move_day_death_stock_list # 日死\n",
    "    condition3 = stock_code not in gold_to_move_8_stock_list #拐头\n",
    "    if condition1 and condition2 and condition3:\n",
    "        kdj_res.append(stock_code)\n",
    "\n",
    "# 加入今日金叉数据\n",
    "for stock_code in today_gold_list:\n",
    "    if stock_code not in kdj_res:\n",
    "        kdj_res.append(stock_code)\n",
    "\n",
    "output_file = './output/KDJ日金/KDJ日金.xlsx'\n",
    "common.Final_file.output_excel(kdj_res,output_file,condition='日金')\n",
    "common.Final_file.mk_pic(output_file)  # 生成所有图片"
   ]
  },
  {
   "cell_type": "code",
   "execution_count": 38,
   "id": "10eb0b0a",
   "metadata": {},
   "outputs": [
    {
     "name": "stdout",
     "output_type": "stream",
     "text": [
      "Processed stock codes saved to ./txt_lib/KDJ日金.txt.\n"
     ]
    }
   ],
   "source": [
    "# 覆写KDJ日金txt\n",
    "output_file = \"./txt_lib/KDJ日金.txt\"\n",
    "with open(output_file, \"w\") as outfile1:\n",
    "    for stock_code in kdj_res:\n",
    "        processed_code = stock_code[2:]\n",
    "        outfile1.write(processed_code + \"\\n\")\n",
    "\n",
    "print(f\"Processed stock codes saved to {output_file}.\")"
   ]
  },
  {
   "cell_type": "code",
   "execution_count": 48,
   "id": "2ea22104",
   "metadata": {},
   "outputs": [
    {
     "name": "stdout",
     "output_type": "stream",
     "text": [
      "Excel 文件已生成: ./output/KDJ8/KDJ8.xlsx\n",
      "所有图片已生成！\n",
      "今日KDJ8 txt文件已生成。\n"
     ]
    }
   ],
   "source": [
    "# KDJ8 文件生成\n",
    "\n",
    "# 读取昨日kdj8 txt\n",
    "yest_kdj8_list = []\n",
    "yest_kdj8_path = \"./txt_lib/today_kdj8.txt\"\n",
    "with open(yest_kdj8_path, \"r\") as file:\n",
    "    for line in file:\n",
    "        stock_code = line.strip()\n",
    "        if stock_code.startswith(\"6\"):\n",
    "            processed_code = f\"sh{stock_code}\"\n",
    "        elif stock_code.startswith(\"0\"):\n",
    "            processed_code = f\"sz{stock_code}\"\n",
    "        else:\n",
    "            processed_code = stock_code\n",
    "        yest_kdj8_list.append(processed_code)\n",
    "\n",
    "# 筛出日死代码\n",
    "kdj8_to_move_day_death_stock_list = []\n",
    "kdj8_to_move_day_death_stock_list = common.Final_process.process_stocks(\n",
    "    yest_kdj8_list, mode=\"daily_death\"\n",
    ")\n",
    "\n",
    "# 筛出周死代码\n",
    "kdj8_to_del_stock_list = []\n",
    "kdj8_to_del_stock_list = common.Final_process.process_stocks(\n",
    "    yest_kdj8_list, mode=\"week_death\"\n",
    ")\n",
    "\n",
    "today_kdj8 = []\n",
    "\n",
    "for stock_code in yest_kdj8_list:\n",
    "    condition1 = stock_code not in kdj8_to_del_stock_list # 周死\n",
    "    condition2 = stock_code not in kdj8_to_move_day_death_stock_list # 日死\n",
    "    condition3 = stock_code not in gold_to_move_8_stock_list # 今日\n",
    "    if condition1 and condition2 and condition3:\n",
    "        today_kdj8.append(stock_code)\n",
    "\n",
    "today_kdj8 += gold_to_move_8_stock_list\n",
    "\n",
    "# 最终输出\n",
    "output_file = \"./output/KDJ8/KDJ8.xlsx\"\n",
    "common.Final_file.output_excel(today_kdj8, output_file, condition=\"8\")\n",
    "common.Final_file.mk_pic(output_file)  # 生成所有图片\n",
    "\n",
    "# 生成今日 KDJ8 TXT\n",
    "today_kdj8_txt_path = \"./txt_lib/today_kdj8.txt\"\n",
    "with open(today_kdj8_txt_path, \"w\") as file:\n",
    "    for item in today_kdj8:\n",
    "        file.write(item + \"\\n\")  # 每个元素后加换行符\n",
    "\n",
    "print(\"今日KDJ8 txt文件已生成。\")"
   ]
  },
  {
   "cell_type": "code",
   "execution_count": 45,
   "id": "4ad87104",
   "metadata": {},
   "outputs": [],
   "source": [
    "import akshare as ak\n",
    "from datetime import datetime, timedelta\n",
    "current_date = datetime.now() + timedelta(days=1)\n",
    "end_date = current_date\n",
    "\n",
    "stock_code ='sh601375'\n",
    "f = ak.stock_zh_a_daily(\n",
    "                    symbol=stock_code,\n",
    "                    start_date=\"2010-01-01\",\n",
    "                    end_date=end_date.strftime(\"%Y-%m-%d\"),\n",
    "                    adjust=\"qfq\",\n",
    "                )  # qfq=前复权"
   ]
  },
  {
   "cell_type": "code",
   "execution_count": 46,
   "id": "0b6ce013",
   "metadata": {},
   "outputs": [
    {
     "name": "stdout",
     "output_type": "stream",
     "text": [
      "Excel 文件已生成: ./output/KDJ日死/KDJ日死.xlsx\n",
      "所有图片已生成！\n"
     ]
    }
   ],
   "source": [
    "# KDJ日死 文件生成\n",
    "kdj_death = []\n",
    "\n",
    "# 今日死叉数据\n",
    "today_death_txt_path = \"./output/death_output/today_death_cross.txt\"\n",
    "today_death_list = []\n",
    "with open(today_death_txt_path, \"r\") as file:\n",
    "    for line in file:\n",
    "        stock_code = line.strip()\n",
    "        today_death_list.append(stock_code)\n",
    "\n",
    "for stock_code in death_stock_list:\n",
    "    condition1 = stock_code not in death_to_del_stock_list\n",
    "\n",
    "    if condition1:\n",
    "        kdj_death.append(stock_code)\n",
    "\n",
    "# 加入今日死叉数据\n",
    "for stock_code in today_death_list:\n",
    "    if stock_code not in kdj_death:\n",
    "        kdj_death.append(stock_code)\n",
    "        \n",
    "# 加入今日kdj8日死数据\n",
    "for stock_code in kdj8_to_move_day_death_stock_list:\n",
    "    if stock_code not in kdj_death:\n",
    "        kdj_death.append(stock_code)\n",
    "\n",
    "output_file = \"./output/KDJ日死/KDJ日死.xlsx\"\n",
    "common.Final_file.output_excel(kdj_death, output_file, condition=\"日死\")\n",
    "common.Final_file.mk_pic(output_file)  # 生成所有图片"
   ]
  },
  {
   "cell_type": "code",
   "execution_count": 47,
   "id": "67725b97",
   "metadata": {},
   "outputs": [
    {
     "name": "stdout",
     "output_type": "stream",
     "text": [
      "Processed stock codes saved to ./txt_lib/KDJ日死.txt.\n"
     ]
    }
   ],
   "source": [
    "# 覆写KDJ日死txt\n",
    "output_file = \"./txt_lib/KDJ日死.txt\"\n",
    "with open(output_file, \"w\") as outfile1:\n",
    "    for stock_code in kdj_death:\n",
    "        processed_code = stock_code[2:]\n",
    "        outfile1.write(processed_code + \"\\n\")\n",
    "\n",
    "print(f\"Processed stock codes saved to {output_file}.\")"
   ]
  }
 ],
 "metadata": {
  "kernelspec": {
   "display_name": "Python 3",
   "language": "python",
   "name": "python3"
  },
  "language_info": {
   "codemirror_mode": {
    "name": "ipython",
    "version": 3
   },
   "file_extension": ".py",
   "mimetype": "text/x-python",
   "name": "python",
   "nbconvert_exporter": "python",
   "pygments_lexer": "ipython3",
   "version": "3.10.11"
  }
 },
 "nbformat": 4,
 "nbformat_minor": 5
}
