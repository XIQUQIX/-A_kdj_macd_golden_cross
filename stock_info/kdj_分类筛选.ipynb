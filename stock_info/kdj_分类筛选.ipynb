{
 "cells": [
  {
   "cell_type": "markdown",
   "id": "6fcb296b",
   "metadata": {},
   "source": [
    "# 按需分类 KDJ日金叉 & KDJ日死叉 代码仓库"
   ]
  },
  {
   "cell_type": "code",
   "execution_count": 5,
   "id": "31a5231e",
   "metadata": {},
   "outputs": [],
   "source": [
    "import calculate\n",
    "import common\n",
    "from pathlib import Path\n",
    "\n",
    "# 给原始股票代码加上抬头；'600001' → 'sh600001'\n",
    "def add_capital(input_file: str, output_file: str):\n",
    "    with open(input_file, \"r\") as infile, open(output_file, \"w\") as outfile:\n",
    "        for line in infile:\n",
    "            stock_code = line.strip()\n",
    "            if stock_code.startswith(\"6\"):\n",
    "                processed_code = f\"sh{stock_code}\"\n",
    "            else:\n",
    "                processed_code = f\"sz{stock_code}\"\n",
    "            outfile.write(processed_code + \"\\n\")\n",
    "\n",
    "    print(f\"Processed stock codes saved to {output_file}.\")\n",
    "\n",
    "dict_filename = \"./txt_lib/stock_name.txt\"\n",
    "stock_dict = common.Initialization.generate_stock_dict(dict_filename)"
   ]
  },
  {
   "cell_type": "markdown",
   "id": "0b7da5f5",
   "metadata": {},
   "source": [
    "## 处理 KDJ日金 + 周死叉 → 弃"
   ]
  },
  {
   "cell_type": "code",
   "execution_count": 6,
   "id": "27f60167",
   "metadata": {},
   "outputs": [
    {
     "name": "stdout",
     "output_type": "stream",
     "text": [
      "Processed stock codes saved to ./txt_lib/processed_KDJ日金.txt.\n"
     ]
    }
   ],
   "source": [
    "# 读取原始文件并处理\n",
    "input_file = \"./txt_lib/KDJ日金.txt\"\n",
    "output_file = \"./txt_lib/processed_KDJ日金.txt\"\n",
    "add_capital(input_file, output_file)\n",
    "\n",
    "file_name = output_file\n",
    "with open(file_name, \"r\") as file:\n",
    "    gold_stock_list = [line.strip() for line in file if line.strip()]\n",
    "\n",
    "gold_to_del_stock_list = []\n",
    "gold_to_del_stock_list = common.Final_process.process_stocks(gold_stock_list, mode=\"week_death\")\n",
    "# print(\"KDJ日金 因 周死叉 要删除的股票\")\n",
    "# print(f\"总计股票数量:{len(gold_to_del_stock_list)}。\")\n",
    "\n",
    "# for stock_code in gold_to_del_stock_list:\n",
    "#     cur_stock_code = stock_code[2:]\n",
    "#     stock_name = stock_dict.get(cur_stock_code, \"未知\")  # 获取股票名称\n",
    "#     print(f\"{cur_stock_code}:{stock_name}\")"
   ]
  },
  {
   "cell_type": "markdown",
   "id": "fc6ba0f8",
   "metadata": {},
   "source": [
    "## 处理 KDJ日死 + 周死叉 → 弃"
   ]
  },
  {
   "cell_type": "code",
   "execution_count": 16,
   "id": "7def2c8c",
   "metadata": {},
   "outputs": [
    {
     "name": "stdout",
     "output_type": "stream",
     "text": [
      "Processed stock codes saved to ./txt_lib/processed_KDJ日死.txt.\n"
     ]
    }
   ],
   "source": [
    "# 读取原始文件并处理\n",
    "input_file = \"./txt_lib/KDJ日死.txt\"\n",
    "output_file = \"./txt_lib/processed_KDJ日死.txt\"\n",
    "add_capital(input_file, output_file)\n",
    "\n",
    "file_name = output_file\n",
    "with open(file_name, \"r\") as file:\n",
    "    death_stock_list = [line.strip() for line in file if line.strip()]\n",
    "\n",
    "death_to_del_stock_list = []\n",
    "death_to_del_stock_list = common.Final_process.process_stocks(death_stock_list, mode=\"week_death\")\n",
    "\n",
    "# print(\"KDJ日死 因 周死叉 要删除的股票\")\n",
    "# print(f\"总计股票数量:{len(death_to_del_stock_list)}。\")\n",
    "\n",
    "# for stock_code in death_to_del_stock_list:\n",
    "#     cur_stock_code = stock_code[2:]\n",
    "#     stock_name = stock_dict.get(cur_stock_code, \"未知\")  # 获取股票名称\n",
    "#     print(f\"{cur_stock_code}:{stock_name}\")"
   ]
  },
  {
   "cell_type": "markdown",
   "id": "446983fb",
   "metadata": {},
   "source": [
    "## 处理 KDJ日金 + 日死 → KDJ日死"
   ]
  },
  {
   "cell_type": "code",
   "execution_count": 7,
   "id": "a1b64bb9",
   "metadata": {},
   "outputs": [],
   "source": [
    "gold_to_move_day_death_stock_list = []\n",
    "gold_to_move_day_death_stock_list = common.Final_process.process_stocks(gold_stock_list, mode=\"daily_death\")\n",
    "\n",
    "# print(\"KDJ日金 因 日死叉 要转移至 KDJ日死 的股票\")\n",
    "# print(f\"总计股票数量:{len(gold_to_move_day_death_stock_list)}。\")\n",
    "\n",
    "# for stock_code in gold_to_move_day_death_stock_list:\n",
    "#     cur_stock_code = stock_code[2:]\n",
    "#     stock_name = stock_dict.get(cur_stock_code, \"未知\")  # 获取股票名称\n",
    "#     print(f\"{cur_stock_code}:{stock_name}\")"
   ]
  },
  {
   "cell_type": "markdown",
   "id": "04e2cb5b",
   "metadata": {},
   "source": [
    "## 处理 KDJ日金 + J线拐头 → KDJ8"
   ]
  },
  {
   "cell_type": "code",
   "execution_count": 8,
   "id": "e35f244a",
   "metadata": {},
   "outputs": [],
   "source": [
    "gold_to_move_8_stock_list = []\n",
    "gold_to_move_8_stock_list = common.Final_process.process_stocks(\n",
    "    gold_stock_list, mode=\"J_turn_around\"\n",
    ")\n",
    "# print(\"KDJ日金 因 J线掉头 要转移至 KDJ8 的股票。\")\n",
    "# print(f\"总计股票数量:{len(gold_to_move_8_stock_list)}。\")\n",
    "\n",
    "# for stock_code in gold_to_move_8_stock_list:\n",
    "#     # 不能在 日死叉 list中\n",
    "#     if stock_code not in gold_to_move_day_death_stock_list:\n",
    "#         cur_stock_code = stock_code[2:]\n",
    "#         stock_name = stock_dict.get(cur_stock_code, \"未知\")  # 获取股票名称\n",
    "#         print(f\"{cur_stock_code}:{stock_name}\")"
   ]
  },
  {
   "cell_type": "code",
   "execution_count": 10,
   "id": "bdecf250",
   "metadata": {},
   "outputs": [],
   "source": [
    "try:\n",
    "    folder = Path(\"./output\")\n",
    "    folder.mkdir()\n",
    "except Exception as e:\n",
    "    pass\n",
    "\n",
    "try:\n",
    "    folder = Path(\"./output/KDJ日金\")\n",
    "    folder.mkdir()\n",
    "    folder = Path(\"./output/KDJ日死\")\n",
    "    folder.mkdir()\n",
    "    folder = Path(\"./output/KDJ8\")\n",
    "    folder.mkdir()\n",
    "    folder = Path(\"./output/操作1.1\")\n",
    "    folder.mkdir()\n",
    "except Exception as e:\n",
    "    pass"
   ]
  },
  {
   "cell_type": "code",
   "execution_count": null,
   "id": "4a7fe1e5",
   "metadata": {},
   "outputs": [
    {
     "name": "stdout",
     "output_type": "stream",
     "text": [
      "Excel 文件已生成: ./output/KDJ日金/KDJ日金.xlsx\n",
      "所有图片已生成！\n"
     ]
    }
   ],
   "source": [
    "# 今日金叉数据\n",
    "today_gold_txt_path = \"./output/golden_output/today_gold_cross.txt\"\n",
    "today_gold_list = []\n",
    "with open(today_gold_txt_path, \"r\") as file:\n",
    "    for line in file:\n",
    "        stock_code = line.strip()\n",
    "        today_gold_list.append(stock_code)\n",
    "\n",
    "# KDJ日金 文件生成\n",
    "kdj_res = []\n",
    "for stock_code in gold_stock_list:\n",
    "    condition1 = stock_code not in gold_to_del_stock_list # 周死\n",
    "    condition2 = stock_code not in gold_to_move_day_death_stock_list # 日死\n",
    "    condition3 = stock_code not in gold_to_move_8_stock_list #拐头\n",
    "    if condition1 and condition2 and condition3:\n",
    "        kdj_res.append(stock_code)\n",
    "\n",
    "# 加入今日金叉数据\n",
    "for stock_code in today_gold_list:\n",
    "    if stock_code not in kdj_res:\n",
    "        kdj_res.append(stock_code)\n",
    "\n",
    "output_file = './output/KDJ日金/KDJ日金.xlsx'\n",
    "common.Final_file.output_excel(kdj_res,output_file,condition='日金')\n",
    "common.Final_file.mk_pic(output_file)  # 生成所有图片"
   ]
  },
  {
   "cell_type": "code",
   "execution_count": null,
   "id": "2ea22104",
   "metadata": {},
   "outputs": [
    {
     "name": "stdout",
     "output_type": "stream",
     "text": [
      "Excel 文件已生成: ./output/KDJ8/KDJ8.xlsx\n",
      "所有图片已生成！\n"
     ]
    }
   ],
   "source": [
    "# KDJ8 文件生成\n",
    "output_file = \"./output/KDJ8/KDJ8.xlsx\"\n",
    "common.Final_file.output_excel(gold_to_move_8_stock_list, output_file, condition=\"8\")\n",
    "common.Final_file.mk_pic(output_file)  # 生成所有图片"
   ]
  },
  {
   "cell_type": "code",
   "execution_count": 17,
   "id": "0b6ce013",
   "metadata": {},
   "outputs": [
    {
     "name": "stdout",
     "output_type": "stream",
     "text": [
      "Excel 文件已生成: ./output/KDJ日死/KDJ日死.xlsx\n",
      "所有图片已生成！\n"
     ]
    }
   ],
   "source": [
    "# KDJ日死 文件生成\n",
    "kdj_death = []\n",
    "\n",
    "# 今日死叉数据\n",
    "today_death_txt_path = \"./output/death_output/today_death_cross.txt\"\n",
    "today_death_list = []\n",
    "with open(today_death_txt_path, \"r\") as file:\n",
    "    for line in file:\n",
    "        stock_code = line.strip()\n",
    "        today_death_list.append(stock_code)\n",
    "\n",
    "for stock_code in death_stock_list:\n",
    "    condition1 = stock_code not in death_to_del_stock_list\n",
    "\n",
    "    if condition1:\n",
    "        kdj_death.append(stock_code)\n",
    "\n",
    "# 加入今日死叉数据\n",
    "for stock_code in today_death_list:\n",
    "    if stock_code not in kdj_death:\n",
    "        kdj_death.append(stock_code)\n",
    "\n",
    "output_file = \"./output/KDJ日死/KDJ日死.xlsx\"\n",
    "common.Final_file.output_excel(kdj_death, output_file, condition=\"日死\")\n",
    "common.Final_file.mk_pic(output_file)  # 生成所有图片"
   ]
  }
 ],
 "metadata": {
  "kernelspec": {
   "display_name": "Python 3",
   "language": "python",
   "name": "python3"
  },
  "language_info": {
   "codemirror_mode": {
    "name": "ipython",
    "version": 3
   },
   "file_extension": ".py",
   "mimetype": "text/x-python",
   "name": "python",
   "nbconvert_exporter": "python",
   "pygments_lexer": "ipython3",
   "version": "3.10.11"
  }
 },
 "nbformat": 4,
 "nbformat_minor": 5
}
