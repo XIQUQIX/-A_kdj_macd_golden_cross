{
 "cells": [
  {
   "cell_type": "markdown",
   "metadata": {},
   "source": [
    "## 月MACD在零线上刚金叉的"
   ]
  },
  {
   "cell_type": "markdown",
   "metadata": {},
   "source": [
    "网址 https://www.mairui.club/gratis.html\n",
    "\n",
    "证书 C763BEC3-16CD-4F7B-B8C4-3EC5D15BECB7"
   ]
  },
  {
   "cell_type": "code",
   "execution_count": 1,
   "metadata": {},
   "outputs": [],
   "source": [
    "import akshare as ak\n",
    "import pandas as pd\n",
    "from pandas import DataFrame\n",
    "from datetime import datetime, timedelta\n",
    "import time\n",
    "import matplotlib.pyplot as plt\n",
    "import shutil\n",
    "from pathlib import Path\n",
    "from concurrent.futures import ThreadPoolExecutor, as_completed\n",
    "import random\n",
    "import os\n",
    "\n",
    "import common\n",
    "import calculate\n",
    "\n",
    "# current_date = datetime.now() + timedelta(days=1)\n",
    "# one_week_ago = current_date - timedelta(days=7)  # 计算一周之前的日期"
   ]
  },
  {
   "cell_type": "code",
   "execution_count": 2,
   "metadata": {},
   "outputs": [
    {
     "name": "stdout",
     "output_type": "stream",
     "text": [
      "Attempt 1 failed for sh600083: No value to decode\n",
      "Max retries reached for sh600083. Skipping...\n",
      "处理股票 sh600083 时出错: 'date'\n"
     ]
    }
   ],
   "source": [
    "file_name = \"./txt_lib/stock_code.txt\"\n",
    "with open(file_name, \"r\") as file:\n",
    "    stock_list = [line.strip() for line in file if line.strip()]\n",
    "\n",
    "mode = \"macd\" # 设定macd模式\n",
    "\n",
    "# 限制股票数量\n",
    "stock_list = stock_list[:250]\n",
    "all_golden_cross = common.Final_process.process_stocks(stock_list, mode)"
   ]
  },
  {
   "cell_type": "code",
   "execution_count": 3,
   "metadata": {},
   "outputs": [
    {
     "name": "stdout",
     "output_type": "stream",
     "text": [
      "总计股票数量：4\n",
      "股票代码: 600051, 股票名称: 宁波联合 \n",
      "股票代码: 600097, 股票名称: 开创国际 \n",
      "股票代码: 600137, 股票名称: 浪莎股份 \n",
      "股票代码: 600319, 股票名称: 亚星化学 \n"
     ]
    }
   ],
   "source": [
    "filename = \"./txt_lib/stock_name.txt\"  # 替换新文件路径\n",
    "stock_dict = common.Initialization.generate_stock_dict(filename)\n",
    "print(f\"总计股票数量：{len(all_golden_cross)}\")\n",
    "for stock_code in all_golden_cross:\n",
    "    cur_stock_code = str(stock_code[-6:])  # 取出六位股票代码\n",
    "    stock_name = stock_dict.get(cur_stock_code, \"未知\")  # 获取股票名称\n",
    "    print(\n",
    "        f\"股票代码: {cur_stock_code}, 股票名称: {stock_name} \"\n",
    "    )"
   ]
  },
  {
   "cell_type": "code",
   "execution_count": 4,
   "metadata": {},
   "outputs": [
    {
     "name": "stdout",
     "output_type": "stream",
     "text": [
      "Excel 文件已生成: ./output/month_macd/month_cross_summary.xlsx\n",
      "所有图片已生成！\n"
     ]
    }
   ],
   "source": [
    "try:\n",
    "    folder = Path(\"./output/month_macd\")\n",
    "    folder.mkdir()\n",
    "except Exception as e:\n",
    "    pass\n",
    "\n",
    "common.Final_file.clean_folder(\"./output/month_macd\")\n",
    "\n",
    "output_file = \"./output/month_macd/month_cross_summary.xlsx\"\n",
    "common.Final_file.output_excel(all_golden_cross, output_file)  # 生成excel\n",
    "common.Final_file.mk_pic(output_file)  # 生成所有图片"
   ]
  },
  {
   "cell_type": "markdown",
   "metadata": {},
   "source": [
    "## TEST"
   ]
  },
  {
   "cell_type": "code",
   "execution_count": 1,
   "metadata": {},
   "outputs": [],
   "source": [
    "import common\n",
    "import calculate"
   ]
  },
  {
   "cell_type": "code",
   "execution_count": 18,
   "metadata": {},
   "outputs": [],
   "source": [
    "stock_code = \"sh600097\"\n",
    "current_date = datetime.now() + timedelta(days=1)\n",
    "end_date = current_date\n",
    "df = ak.stock_zh_a_daily(\n",
    "    symbol=stock_code,\n",
    "    start_date=\"2010-01-01\",\n",
    "    end_date=end_date.strftime(\"%Y-%m-%d\"),\n",
    "    adjust=\"hfq\",\n",
    ")  # qfq=前复权"
   ]
  },
  {
   "cell_type": "code",
   "execution_count": 22,
   "metadata": {},
   "outputs": [],
   "source": [
    "stock_code = \"sh600097\"\n",
    "data = common.Download.download_with_retry(stock_code)"
   ]
  },
  {
   "cell_type": "code",
   "execution_count": 23,
   "metadata": {},
   "outputs": [
    {
     "data": {
      "text/html": [
       "<div>\n",
       "<style scoped>\n",
       "    .dataframe tbody tr th:only-of-type {\n",
       "        vertical-align: middle;\n",
       "    }\n",
       "\n",
       "    .dataframe tbody tr th {\n",
       "        vertical-align: top;\n",
       "    }\n",
       "\n",
       "    .dataframe thead th {\n",
       "        text-align: right;\n",
       "    }\n",
       "</style>\n",
       "<table border=\"1\" class=\"dataframe\">\n",
       "  <thead>\n",
       "    <tr style=\"text-align: right;\">\n",
       "      <th></th>\n",
       "      <th>year_month</th>\n",
       "      <th>open</th>\n",
       "      <th>high</th>\n",
       "      <th>low</th>\n",
       "      <th>close</th>\n",
       "      <th>volume</th>\n",
       "    </tr>\n",
       "  </thead>\n",
       "  <tbody>\n",
       "    <tr>\n",
       "      <th>174</th>\n",
       "      <td>2024-11</td>\n",
       "      <td>9.11</td>\n",
       "      <td>10.09</td>\n",
       "      <td>8.91</td>\n",
       "      <td>9.78</td>\n",
       "      <td>125401018.0</td>\n",
       "    </tr>\n",
       "    <tr>\n",
       "      <th>175</th>\n",
       "      <td>2024-12</td>\n",
       "      <td>9.79</td>\n",
       "      <td>11.76</td>\n",
       "      <td>9.26</td>\n",
       "      <td>10.14</td>\n",
       "      <td>161911237.0</td>\n",
       "    </tr>\n",
       "    <tr>\n",
       "      <th>176</th>\n",
       "      <td>2025-01</td>\n",
       "      <td>10.04</td>\n",
       "      <td>10.35</td>\n",
       "      <td>8.74</td>\n",
       "      <td>9.36</td>\n",
       "      <td>61346427.0</td>\n",
       "    </tr>\n",
       "    <tr>\n",
       "      <th>177</th>\n",
       "      <td>2025-02</td>\n",
       "      <td>9.37</td>\n",
       "      <td>9.59</td>\n",
       "      <td>8.85</td>\n",
       "      <td>8.88</td>\n",
       "      <td>61928415.0</td>\n",
       "    </tr>\n",
       "    <tr>\n",
       "      <th>178</th>\n",
       "      <td>2025-03</td>\n",
       "      <td>8.91</td>\n",
       "      <td>12.90</td>\n",
       "      <td>8.85</td>\n",
       "      <td>9.45</td>\n",
       "      <td>240598457.0</td>\n",
       "    </tr>\n",
       "    <tr>\n",
       "      <th>179</th>\n",
       "      <td>2025-04</td>\n",
       "      <td>9.52</td>\n",
       "      <td>9.82</td>\n",
       "      <td>8.73</td>\n",
       "      <td>9.64</td>\n",
       "      <td>150341526.0</td>\n",
       "    </tr>\n",
       "    <tr>\n",
       "      <th>180</th>\n",
       "      <td>2025-05</td>\n",
       "      <td>9.68</td>\n",
       "      <td>9.99</td>\n",
       "      <td>9.64</td>\n",
       "      <td>9.97</td>\n",
       "      <td>17882932.0</td>\n",
       "    </tr>\n",
       "  </tbody>\n",
       "</table>\n",
       "</div>"
      ],
      "text/plain": [
       "    year_month   open   high   low  close       volume\n",
       "174    2024-11   9.11  10.09  8.91   9.78  125401018.0\n",
       "175    2024-12   9.79  11.76  9.26  10.14  161911237.0\n",
       "176    2025-01  10.04  10.35  8.74   9.36   61346427.0\n",
       "177    2025-02   9.37   9.59  8.85   8.88   61928415.0\n",
       "178    2025-03   8.91  12.90  8.85   9.45  240598457.0\n",
       "179    2025-04   9.52   9.82  8.73   9.64  150341526.0\n",
       "180    2025-05   9.68   9.99  9.64   9.97   17882932.0"
      ]
     },
     "execution_count": 23,
     "metadata": {},
     "output_type": "execute_result"
    }
   ],
   "source": [
    "monthly_df = calculate.MACD.get_monthly_kline(data)\n",
    "monthly_df.tail(7)"
   ]
  },
  {
   "cell_type": "code",
   "execution_count": 24,
   "metadata": {},
   "outputs": [
    {
     "data": {
      "text/html": [
       "<div>\n",
       "<style scoped>\n",
       "    .dataframe tbody tr th:only-of-type {\n",
       "        vertical-align: middle;\n",
       "    }\n",
       "\n",
       "    .dataframe tbody tr th {\n",
       "        vertical-align: top;\n",
       "    }\n",
       "\n",
       "    .dataframe thead th {\n",
       "        text-align: right;\n",
       "    }\n",
       "</style>\n",
       "<table border=\"1\" class=\"dataframe\">\n",
       "  <thead>\n",
       "    <tr style=\"text-align: right;\">\n",
       "      <th></th>\n",
       "      <th>year_month</th>\n",
       "      <th>open</th>\n",
       "      <th>high</th>\n",
       "      <th>low</th>\n",
       "      <th>close</th>\n",
       "      <th>volume</th>\n",
       "      <th>EMA_short</th>\n",
       "      <th>EMA_long</th>\n",
       "      <th>DIF</th>\n",
       "      <th>DEA</th>\n",
       "      <th>MACD_hist</th>\n",
       "      <th>MACD_Golden</th>\n",
       "      <th>MACD_Death</th>\n",
       "    </tr>\n",
       "  </thead>\n",
       "  <tbody>\n",
       "    <tr>\n",
       "      <th>174</th>\n",
       "      <td>2024-11</td>\n",
       "      <td>9.11</td>\n",
       "      <td>10.09</td>\n",
       "      <td>8.91</td>\n",
       "      <td>9.78</td>\n",
       "      <td>125401018.0</td>\n",
       "      <td>9.002883</td>\n",
       "      <td>9.214063</td>\n",
       "      <td>-0.211180</td>\n",
       "      <td>-0.233506</td>\n",
       "      <td>0.044654</td>\n",
       "      <td>True</td>\n",
       "      <td>False</td>\n",
       "    </tr>\n",
       "    <tr>\n",
       "      <th>175</th>\n",
       "      <td>2024-12</td>\n",
       "      <td>9.79</td>\n",
       "      <td>11.76</td>\n",
       "      <td>9.26</td>\n",
       "      <td>10.14</td>\n",
       "      <td>161911237.0</td>\n",
       "      <td>9.177824</td>\n",
       "      <td>9.282651</td>\n",
       "      <td>-0.104826</td>\n",
       "      <td>-0.207770</td>\n",
       "      <td>0.205888</td>\n",
       "      <td>False</td>\n",
       "      <td>False</td>\n",
       "    </tr>\n",
       "    <tr>\n",
       "      <th>176</th>\n",
       "      <td>2025-01</td>\n",
       "      <td>10.04</td>\n",
       "      <td>10.35</td>\n",
       "      <td>8.74</td>\n",
       "      <td>9.36</td>\n",
       "      <td>61346427.0</td>\n",
       "      <td>9.205851</td>\n",
       "      <td>9.288380</td>\n",
       "      <td>-0.082529</td>\n",
       "      <td>-0.182722</td>\n",
       "      <td>0.200386</td>\n",
       "      <td>False</td>\n",
       "      <td>False</td>\n",
       "    </tr>\n",
       "    <tr>\n",
       "      <th>177</th>\n",
       "      <td>2025-02</td>\n",
       "      <td>9.37</td>\n",
       "      <td>9.59</td>\n",
       "      <td>8.85</td>\n",
       "      <td>8.88</td>\n",
       "      <td>61928415.0</td>\n",
       "      <td>9.155720</td>\n",
       "      <td>9.258130</td>\n",
       "      <td>-0.102410</td>\n",
       "      <td>-0.166660</td>\n",
       "      <td>0.128500</td>\n",
       "      <td>False</td>\n",
       "      <td>False</td>\n",
       "    </tr>\n",
       "    <tr>\n",
       "      <th>178</th>\n",
       "      <td>2025-03</td>\n",
       "      <td>8.91</td>\n",
       "      <td>12.90</td>\n",
       "      <td>8.85</td>\n",
       "      <td>9.45</td>\n",
       "      <td>240598457.0</td>\n",
       "      <td>9.200994</td>\n",
       "      <td>9.272343</td>\n",
       "      <td>-0.071348</td>\n",
       "      <td>-0.147597</td>\n",
       "      <td>0.152498</td>\n",
       "      <td>False</td>\n",
       "      <td>False</td>\n",
       "    </tr>\n",
       "    <tr>\n",
       "      <th>179</th>\n",
       "      <td>2025-04</td>\n",
       "      <td>9.52</td>\n",
       "      <td>9.82</td>\n",
       "      <td>8.73</td>\n",
       "      <td>9.64</td>\n",
       "      <td>150341526.0</td>\n",
       "      <td>9.268534</td>\n",
       "      <td>9.299576</td>\n",
       "      <td>-0.031043</td>\n",
       "      <td>-0.124286</td>\n",
       "      <td>0.186487</td>\n",
       "      <td>False</td>\n",
       "      <td>False</td>\n",
       "    </tr>\n",
       "    <tr>\n",
       "      <th>180</th>\n",
       "      <td>2025-05</td>\n",
       "      <td>9.68</td>\n",
       "      <td>9.99</td>\n",
       "      <td>9.64</td>\n",
       "      <td>9.97</td>\n",
       "      <td>17882932.0</td>\n",
       "      <td>9.376451</td>\n",
       "      <td>9.349237</td>\n",
       "      <td>0.027214</td>\n",
       "      <td>-0.093986</td>\n",
       "      <td>0.242401</td>\n",
       "      <td>False</td>\n",
       "      <td>False</td>\n",
       "    </tr>\n",
       "  </tbody>\n",
       "</table>\n",
       "</div>"
      ],
      "text/plain": [
       "    year_month   open   high   low  close       volume  EMA_short  EMA_long  \\\n",
       "174    2024-11   9.11  10.09  8.91   9.78  125401018.0   9.002883  9.214063   \n",
       "175    2024-12   9.79  11.76  9.26  10.14  161911237.0   9.177824  9.282651   \n",
       "176    2025-01  10.04  10.35  8.74   9.36   61346427.0   9.205851  9.288380   \n",
       "177    2025-02   9.37   9.59  8.85   8.88   61928415.0   9.155720  9.258130   \n",
       "178    2025-03   8.91  12.90  8.85   9.45  240598457.0   9.200994  9.272343   \n",
       "179    2025-04   9.52   9.82  8.73   9.64  150341526.0   9.268534  9.299576   \n",
       "180    2025-05   9.68   9.99  9.64   9.97   17882932.0   9.376451  9.349237   \n",
       "\n",
       "          DIF       DEA  MACD_hist  MACD_Golden  MACD_Death  \n",
       "174 -0.211180 -0.233506   0.044654         True       False  \n",
       "175 -0.104826 -0.207770   0.205888        False       False  \n",
       "176 -0.082529 -0.182722   0.200386        False       False  \n",
       "177 -0.102410 -0.166660   0.128500        False       False  \n",
       "178 -0.071348 -0.147597   0.152498        False       False  \n",
       "179 -0.031043 -0.124286   0.186487        False       False  \n",
       "180  0.027214 -0.093986   0.242401        False       False  "
      ]
     },
     "execution_count": 24,
     "metadata": {},
     "output_type": "execute_result"
    }
   ],
   "source": [
    "monthly_df = calculate.MACD.calculate_macd(monthly_df)\n",
    "monthly_df.tail(7)"
   ]
  },
  {
   "cell_type": "code",
   "execution_count": null,
   "metadata": {},
   "outputs": [],
   "source": [
    "DIF -0.065\n",
    "DEA -0.531"
   ]
  },
  {
   "cell_type": "code",
   "execution_count": null,
   "metadata": {},
   "outputs": [],
   "source": []
  },
  {
   "cell_type": "code",
   "execution_count": null,
   "metadata": {},
   "outputs": [],
   "source": []
  }
 ],
 "metadata": {
  "kernelspec": {
   "display_name": "Python 3",
   "language": "python",
   "name": "python3"
  },
  "language_info": {
   "codemirror_mode": {
    "name": "ipython",
    "version": 3
   },
   "file_extension": ".py",
   "mimetype": "text/x-python",
   "name": "python",
   "nbconvert_exporter": "python",
   "pygments_lexer": "ipython3",
   "version": "3.10.11"
  }
 },
 "nbformat": 4,
 "nbformat_minor": 2
}
