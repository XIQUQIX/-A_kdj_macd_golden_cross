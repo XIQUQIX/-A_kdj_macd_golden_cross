{
 "cells": [
  {
   "cell_type": "markdown",
   "id": "2829b575",
   "metadata": {},
   "source": [
    "## 通过akshare获取当日股票数据 并 存入pickle文件"
   ]
  },
  {
   "cell_type": "code",
   "execution_count": 1,
   "id": "44a4ee8c",
   "metadata": {},
   "outputs": [],
   "source": [
    "import akshare as ak\n",
    "from datetime import datetime, timedelta\n",
    "from pathlib import Path\n",
    "import pandas as pd\n",
    "from pandas import DataFrame, Series\n",
    "from concurrent.futures import ThreadPoolExecutor, as_completed\n",
    "import time\n",
    "import random\n",
    "import pickle\n",
    "\n",
    "import yfinance as yf\n",
    "\n",
    "import common\n",
    "import calculate"
   ]
  },
  {
   "cell_type": "code",
   "execution_count": 2,
   "id": "4f6a6dd0",
   "metadata": {},
   "outputs": [],
   "source": [
    "def get_today_stock_data():\n",
    "    \"\"\"\n",
    "    获取每日股票date open high low close 数据\n",
    "    可在 限制股票数量 进行测试\n",
    "    \"\"\"\n",
    "    file_name = \"./txt_lib/stock_code.txt\"\n",
    "    with open(file_name, \"r\") as file:\n",
    "        stock_list = [line.strip() for line in file if line.strip()]\n",
    "\n",
    "    # # 限制股票数量\n",
    "    # stock_list = stock_list[:150]\n",
    "\n",
    "    def get_stock_data(stock_code: str):\n",
    "        \"\"\"Fetch daily stock data for a stock code\"\"\"\n",
    "\n",
    "        df = common.Download.download_with_retry(stock_code)\n",
    "\n",
    "        # Convert date columns to strings\n",
    "        for col in df.columns:\n",
    "            if pd.api.types.is_datetime64_any_dtype(df[col]):\n",
    "                df[col] = df[col].astype(str)\n",
    "        return stock_code, df.to_dict()\n",
    "\n",
    "    with ThreadPoolExecutor(max_workers=5) as executor:\n",
    "        results = list(executor.map(get_stock_data, stock_list))\n",
    "\n",
    "    # Convert results to a dictionary with stock codes as keys and DataFrame dictionaries as values\n",
    "    data = {stock_code: df for stock_code, df in results}\n",
    "\n",
    "    with open(\"./txt_lib/daily_df.pkl\", \"wb\") as f:\n",
    "        pickle.dump(data, f)\n",
    "\n",
    "    print(\"Stock data has been saved to './txt_lib/daily_df.pkl'.\")"
   ]
  },
  {
   "cell_type": "code",
   "execution_count": 3,
   "id": "6893e04a",
   "metadata": {},
   "outputs": [
    {
     "name": "stdout",
     "output_type": "stream",
     "text": [
      "Stock data has been saved to './txt_lib/daily_df.pkl'.\n"
     ]
    }
   ],
   "source": [
    "get_today_stock_data()"
   ]
  },
  {
   "cell_type": "markdown",
   "id": "9656c687",
   "metadata": {},
   "source": [
    "## TEST"
   ]
  },
  {
   "cell_type": "code",
   "execution_count": 4,
   "id": "45eb3f49",
   "metadata": {},
   "outputs": [
    {
     "data": {
      "text/plain": [
       "<module 'common' from 'e:\\\\GRADUATE\\\\project\\\\stock_info\\\\common.py'>"
      ]
     },
     "execution_count": 4,
     "metadata": {},
     "output_type": "execute_result"
    }
   ],
   "source": [
    "from importlib import reload\n",
    "\n",
    "reload(calculate)\n",
    "reload(common)"
   ]
  },
  {
   "cell_type": "code",
   "execution_count": 5,
   "id": "92db422b",
   "metadata": {},
   "outputs": [],
   "source": [
    "stock_code = \"sh600018\"\n",
    "df = common.Read_pickle.read_pickle_data(stock_code)"
   ]
  },
  {
   "cell_type": "code",
   "execution_count": 6,
   "id": "8851d6ee",
   "metadata": {},
   "outputs": [
    {
     "data": {
      "text/html": [
       "<div>\n",
       "<style scoped>\n",
       "    .dataframe tbody tr th:only-of-type {\n",
       "        vertical-align: middle;\n",
       "    }\n",
       "\n",
       "    .dataframe tbody tr th {\n",
       "        vertical-align: top;\n",
       "    }\n",
       "\n",
       "    .dataframe thead th {\n",
       "        text-align: right;\n",
       "    }\n",
       "</style>\n",
       "<table border=\"1\" class=\"dataframe\">\n",
       "  <thead>\n",
       "    <tr style=\"text-align: right;\">\n",
       "      <th></th>\n",
       "      <th>date</th>\n",
       "      <th>open</th>\n",
       "      <th>high</th>\n",
       "      <th>low</th>\n",
       "      <th>close</th>\n",
       "      <th>volume</th>\n",
       "      <th>amount</th>\n",
       "      <th>outstanding_share</th>\n",
       "      <th>turnover</th>\n",
       "    </tr>\n",
       "  </thead>\n",
       "  <tbody>\n",
       "    <tr>\n",
       "      <th>1806</th>\n",
       "      <td>2025-06-17</td>\n",
       "      <td>5.78</td>\n",
       "      <td>5.81</td>\n",
       "      <td>5.75</td>\n",
       "      <td>5.80</td>\n",
       "      <td>22424500.0</td>\n",
       "      <td>129640143.0</td>\n",
       "      <td>2.321458e+10</td>\n",
       "      <td>0.000966</td>\n",
       "    </tr>\n",
       "    <tr>\n",
       "      <th>1807</th>\n",
       "      <td>2025-06-18</td>\n",
       "      <td>5.80</td>\n",
       "      <td>5.84</td>\n",
       "      <td>5.77</td>\n",
       "      <td>5.82</td>\n",
       "      <td>23420700.0</td>\n",
       "      <td>136063941.0</td>\n",
       "      <td>2.321458e+10</td>\n",
       "      <td>0.001009</td>\n",
       "    </tr>\n",
       "    <tr>\n",
       "      <th>1808</th>\n",
       "      <td>2025-06-19</td>\n",
       "      <td>5.81</td>\n",
       "      <td>5.82</td>\n",
       "      <td>5.74</td>\n",
       "      <td>5.76</td>\n",
       "      <td>23247006.0</td>\n",
       "      <td>134059699.0</td>\n",
       "      <td>2.321458e+10</td>\n",
       "      <td>0.001001</td>\n",
       "    </tr>\n",
       "    <tr>\n",
       "      <th>1809</th>\n",
       "      <td>2025-06-20</td>\n",
       "      <td>5.76</td>\n",
       "      <td>5.87</td>\n",
       "      <td>5.75</td>\n",
       "      <td>5.84</td>\n",
       "      <td>37058825.0</td>\n",
       "      <td>216331778.0</td>\n",
       "      <td>2.321458e+10</td>\n",
       "      <td>0.001596</td>\n",
       "    </tr>\n",
       "    <tr>\n",
       "      <th>1810</th>\n",
       "      <td>2025-06-23</td>\n",
       "      <td>5.83</td>\n",
       "      <td>5.92</td>\n",
       "      <td>5.82</td>\n",
       "      <td>5.90</td>\n",
       "      <td>36945730.0</td>\n",
       "      <td>217272146.0</td>\n",
       "      <td>2.321458e+10</td>\n",
       "      <td>0.001591</td>\n",
       "    </tr>\n",
       "    <tr>\n",
       "      <th>1811</th>\n",
       "      <td>2025-06-24</td>\n",
       "      <td>5.90</td>\n",
       "      <td>5.91</td>\n",
       "      <td>5.81</td>\n",
       "      <td>5.84</td>\n",
       "      <td>38963311.0</td>\n",
       "      <td>227637695.0</td>\n",
       "      <td>2.321458e+10</td>\n",
       "      <td>0.001678</td>\n",
       "    </tr>\n",
       "    <tr>\n",
       "      <th>1812</th>\n",
       "      <td>2025-06-25</td>\n",
       "      <td>5.85</td>\n",
       "      <td>5.87</td>\n",
       "      <td>5.80</td>\n",
       "      <td>5.86</td>\n",
       "      <td>32994898.0</td>\n",
       "      <td>192546824.0</td>\n",
       "      <td>2.321458e+10</td>\n",
       "      <td>0.001421</td>\n",
       "    </tr>\n",
       "  </tbody>\n",
       "</table>\n",
       "</div>"
      ],
      "text/plain": [
       "            date  open  high   low  close      volume       amount  \\\n",
       "1806  2025-06-17  5.78  5.81  5.75   5.80  22424500.0  129640143.0   \n",
       "1807  2025-06-18  5.80  5.84  5.77   5.82  23420700.0  136063941.0   \n",
       "1808  2025-06-19  5.81  5.82  5.74   5.76  23247006.0  134059699.0   \n",
       "1809  2025-06-20  5.76  5.87  5.75   5.84  37058825.0  216331778.0   \n",
       "1810  2025-06-23  5.83  5.92  5.82   5.90  36945730.0  217272146.0   \n",
       "1811  2025-06-24  5.90  5.91  5.81   5.84  38963311.0  227637695.0   \n",
       "1812  2025-06-25  5.85  5.87  5.80   5.86  32994898.0  192546824.0   \n",
       "\n",
       "      outstanding_share  turnover  \n",
       "1806       2.321458e+10  0.000966  \n",
       "1807       2.321458e+10  0.001009  \n",
       "1808       2.321458e+10  0.001001  \n",
       "1809       2.321458e+10  0.001596  \n",
       "1810       2.321458e+10  0.001591  \n",
       "1811       2.321458e+10  0.001678  \n",
       "1812       2.321458e+10  0.001421  "
      ]
     },
     "execution_count": 6,
     "metadata": {},
     "output_type": "execute_result"
    }
   ],
   "source": [
    "df.tail(7)"
   ]
  },
  {
   "cell_type": "code",
   "execution_count": 7,
   "id": "8f6737af",
   "metadata": {},
   "outputs": [
    {
     "data": {
      "text/plain": [
       "50.0"
      ]
     },
     "execution_count": 7,
     "metadata": {},
     "output_type": "execute_result"
    }
   ],
   "source": [
    "5000 * 9 /60 /15"
   ]
  }
 ],
 "metadata": {
  "kernelspec": {
   "display_name": "Python 3",
   "language": "python",
   "name": "python3"
  },
  "language_info": {
   "codemirror_mode": {
    "name": "ipython",
    "version": 3
   },
   "file_extension": ".py",
   "mimetype": "text/x-python",
   "name": "python",
   "nbconvert_exporter": "python",
   "pygments_lexer": "ipython3",
   "version": "3.10.11"
  }
 },
 "nbformat": 4,
 "nbformat_minor": 5
}
