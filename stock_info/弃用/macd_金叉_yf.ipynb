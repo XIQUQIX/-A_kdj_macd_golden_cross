{
 "cells": [
  {
   "cell_type": "markdown",
   "metadata": {},
   "source": [
    "### 1. 每月一次，查找最近月K线MACD指标在零下金叉，且现在已经跃上零线，并现在尚未死叉"
   ]
  },
  {
   "cell_type": "code",
   "execution_count": null,
   "metadata": {},
   "outputs": [
    {
     "name": "stderr",
     "output_type": "stream",
     "text": [
      "Failed to get ticker '601669' reason: Expecting value: line 1 column 1 (char 0)\n",
      "[*********************100%***********************]  1 of 1 completed\n",
      "\n",
      "1 Failed download:\n",
      "['601669']: YFTzMissingError('$%ticker%: possibly delisted; no timezone found')\n"
     ]
    },
    {
     "name": "stdout",
     "output_type": "stream",
     "text": [
      "月线MACD金叉日期:\n"
     ]
    },
    {
     "data": {
      "text/plain": [
       "DatetimeIndex([], dtype='datetime64[ns]', name='Date', freq='M')"
      ]
     },
     "execution_count": 2,
     "metadata": {},
     "output_type": "execute_result"
    },
    {
     "ename": "",
     "evalue": "",
     "output_type": "error",
     "traceback": [
      "\u001b[1;31m在当前单元格或上一个单元格中执行代码时 Kernel 崩溃。\n",
      "\u001b[1;31m请查看单元格中的代码，以确定故障的可能原因。\n",
      "\u001b[1;31m单击<a href='https://aka.ms/vscodeJupyterKernelCrash'>此处</a>了解详细信息。\n",
      "\u001b[1;31m有关更多详细信息，请查看 Jupyter <a href='command:jupyter.viewOutput'>log</a>。"
     ]
    }
   ],
   "source": [
    "import yfinance as yf\n",
    "import pandas as pd\n",
    "\n",
    "\n",
    "def calculate_ema(data, span):\n",
    "    \"\"\"计算EMA\"\"\"\n",
    "    return data.ewm(span=span, adjust=False).mean()\n",
    "\n",
    "\n",
    "def calculate_macd(df, short=12, long=26, signal=9):\n",
    "    \"\"\"计算MACD指标\"\"\"\n",
    "    df[\"EMA_short\"] = calculate_ema(df[\"Close\"], short)\n",
    "    df[\"EMA_long\"] = calculate_ema(df[\"Close\"], long)\n",
    "    df[\"DIF\"] = df[\"EMA_short\"] - df[\"EMA_long\"]\n",
    "    df[\"DEA\"] = calculate_ema(df[\"DIF\"], signal)\n",
    "    df[\"MACD_hist\"] = 2 * (df[\"DIF\"] - df[\"DEA\"])\n",
    "    return df\n",
    "\n",
    "\n",
    "def find_macd_golden_cross(df):\n",
    "    \"\"\"查找MACD金叉的日期\"\"\"\n",
    "    df[\"Golden_Cross\"] = (df[\"DIF\"] > df[\"DEA\"]) & (\n",
    "        df[\"DIF\"].shift(1) <= df[\"DEA\"].shift(1)\n",
    "    )\n",
    "    golden_cross_dates = df[df[\"Golden_Cross\"]].index\n",
    "    return golden_cross_dates\n",
    "\n",
    "\n",
    "# 初始化\n",
    "stock_code = \"601669\"\n",
    "data = yf.download(stock_code, start=\"2020-01-01\", end=\"2020-12-12\")\n",
    "data.columns = data.columns.droplevel(1)  # 去掉第二层的ticker，变为单层索引\n",
    "\n",
    "# 转换为月线数据，取每月最后一个交易日的收盘价\n",
    "monthly_data = (\n",
    "    data.resample(\"M\")\n",
    "    .agg({\"Open\": \"first\", \"High\": \"max\", \"Low\": \"min\", \"Close\": \"last\"})\n",
    "    .dropna()\n",
    ")\n",
    "\n",
    "# 计算月K线的MACD指标\n",
    "monthly_data = calculate_macd(monthly_data)\n",
    "\n",
    "# 查找MACD金叉\n",
    "golden_cross_dates = find_macd_golden_cross(monthly_data)\n",
    "\n",
    "# 输出金叉的日期\n",
    "print(\"月线MACD金叉日期:\")\n",
    "golden_cross_dates"
   ]
  }
 ],
 "metadata": {
  "kernelspec": {
   "display_name": "Python 3",
   "language": "python",
   "name": "python3"
  },
  "language_info": {
   "codemirror_mode": {
    "name": "ipython",
    "version": 3
   },
   "file_extension": ".py",
   "mimetype": "text/x-python",
   "name": "python",
   "nbconvert_exporter": "python",
   "pygments_lexer": "ipython3",
   "version": "3.10.11"
  }
 },
 "nbformat": 4,
 "nbformat_minor": 2
}
