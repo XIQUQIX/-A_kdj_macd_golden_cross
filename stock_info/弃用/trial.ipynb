{
 "cells": [
  {
   "cell_type": "markdown",
   "metadata": {},
   "source": [
    "## 股票筛选目标\n",
    "\n",
    "1. 每月一次，查找最近一月的月K线MACD指标在零下金叉，且已经跃上零线，并尚未死叉\n",
    "\n",
    "2. 每日一次，查找本周的周K线KDJ指标金叉，且当日KDJ已金叉，并都尚未死叉\n",
    "\n",
    "3. 每季一次，由任务1. 选出符合要求的股票中查看F10基本资料，比较当季报中最新指标\n",
    "\n",
    "- [ ] 每股净资产和最新股价差\n",
    "\n",
    "- [ ] 流通股和总股本差\n",
    "\n",
    "- [ ] 分别列出营收和净利润上升或下降者\n",
    "\n",
    "- [ ] 动态市盈率小于20\n",
    "\n",
    "- [ ] 股东人数是否降至历史最低或者次低\n"
   ]
  },
  {
   "cell_type": "markdown",
   "metadata": {},
   "source": [
    "中国电建\n",
    "1. 2020.7月K线Macd指标金叉，2021.8月上零线\n",
    "2. 2014.5月K线Macd指标金叉，2014.12月上零线\n",
    "3. 2024.9.27当周K线kdj 指标金叉,10.23和11.4日kdj 指标金叉"
   ]
  },
  {
   "cell_type": "markdown",
   "metadata": {},
   "source": [
    "### 2. 每日一次，查找本周的周K线KDJ指标金叉，且当日KDJ已金叉，并都尚未死叉\n",
    "\n",
    "2024.9.27当周K线kdj 指标金叉,10.23和11.4日kdj 指标金叉"
   ]
  },
  {
   "cell_type": "markdown",
   "metadata": {},
   "source": [
    "### 3. 每季一次，由任务1. 选出符合要求的股票中查看F10基本资料，比较当季报中最新指标"
   ]
  },
  {
   "cell_type": "markdown",
   "metadata": {},
   "source": [
    "### 每股净资产和最新股价差"
   ]
  },
  {
   "cell_type": "code",
   "execution_count": 33,
   "metadata": {},
   "outputs": [
    {
     "name": "stderr",
     "output_type": "stream",
     "text": [
      "[*********************100%***********************]  1 of 1 completed\n",
      "\n",
      "1 Failed download:\n",
      "['688353']: YFTzMissingError('$%ticker%: possibly delisted; no timezone found')\n"
     ]
    }
   ],
   "source": [
    "# 获取股价\n",
    "import yfinance as yf\n",
    "\n",
    "stock_code = \"688353\"\n",
    "data = yf.download(\n",
    "    stock_code, start=\"2024-01-01\", end=current_date.strftime(\"%Y-%m-%d\")\n",
    ")"
   ]
  },
  {
   "cell_type": "code",
   "execution_count": 25,
   "metadata": {},
   "outputs": [
    {
     "name": "stdout",
     "output_type": "stream",
     "text": [
      "股净资产: 5.479 CNY\n",
      "当前股价: 7.05 CNY\n",
      "股价与股净资产的差: 1.57 CNY\n"
     ]
    }
   ],
   "source": [
    "# 获取股票的基本信息\n",
    "info = stock_data.info\n",
    "# 获取股净资产 (Book Value)\n",
    "book_value = info.get(\"bookValue\", None)\n",
    "\n",
    "# 获取当前股价\n",
    "current_price = info.get(\"currentPrice\", None)\n",
    "\n",
    "if book_value is not None and current_price is not None:\n",
    "    print(f\"股净资产: {book_value} CNY\")\n",
    "    print(f\"当前股价: {current_price} CNY\")\n",
    "\n",
    "    # 计算股净资产与股价的差\n",
    "    price_difference = round(current_price - book_value,2)\n",
    "    print(f\"股价与股净资产的差: {price_difference} CNY\")\n",
    "else:\n",
    "    print(\"没有找到股净资产或股价数据\")"
   ]
  },
  {
   "cell_type": "markdown",
   "metadata": {},
   "source": [
    "### 流通股和总股本差"
   ]
  },
  {
   "cell_type": "code",
   "execution_count": 26,
   "metadata": {},
   "outputs": [
    {
     "name": "stdout",
     "output_type": "stream",
     "text": [
      "总股本: 2050770048\n",
      "流通股本: 869833887\n",
      "总股本与流通股本差: 1180936161\n"
     ]
    }
   ],
   "source": [
    "import yfinance as yf\n",
    "\n",
    "# 深圳机场的股票代码\n",
    "stock_code = \"000089.SZ\"\n",
    "stock_data = yf.Ticker(stock_code)\n",
    "\n",
    "# 获取股票的基本信息\n",
    "info = stock_data.info\n",
    "\n",
    "# 提取总股本（sharesOutstanding）和流通股本（floatShares）\n",
    "total_shares = info.get(\"sharesOutstanding\", None)  # 总股本\n",
    "float_shares = info.get(\"floatShares\", None)  # 流通股本\n",
    "\n",
    "# 打印结果\n",
    "if total_shares is not None and float_shares is not None:\n",
    "    print(f\"总股本: {total_shares}\")\n",
    "    print(f\"流通股本: {float_shares}\")\n",
    "    share_difference = total_shares - float_shares\n",
    "    print(f\"总股本与流通股本差: {share_difference}\")\n",
    "else:\n",
    "    print(\"没有找到相关股本数据\")"
   ]
  },
  {
   "cell_type": "markdown",
   "metadata": {},
   "source": [
    "### 分别列出营收和净利润上升或下降者"
   ]
  },
  {
   "cell_type": "code",
   "execution_count": 28,
   "metadata": {},
   "outputs": [
    {
     "name": "stdout",
     "output_type": "stream",
     "text": [
      "营收增长率: 10.90%，营收上升\n",
      "净利润增长率: -30.10%，净利润下降\n"
     ]
    }
   ],
   "source": [
    "# 获取营收增长率和净利润增长率\n",
    "revenue_growth = info.get(\"revenueGrowth\", None)\n",
    "earnings_growth = info.get(\"earningsGrowth\", None)\n",
    "\n",
    "# 判断营收和净利润的变化\n",
    "if revenue_growth is not None:\n",
    "    if revenue_growth > 0:\n",
    "        print(f\"营收增长率: {revenue_growth*100:.2f}%，营收上升\")\n",
    "    elif revenue_growth < 0:\n",
    "        print(f\"营收增长率: {revenue_growth*100:.2f}%，营收下降\")\n",
    "    else:\n",
    "        print(\"营收增长率为0,营收保持不变\")\n",
    "else:\n",
    "    print(\"没有找到营收增长率数据\")\n",
    "\n",
    "if earnings_growth is not None:\n",
    "    if earnings_growth > 0:\n",
    "        print(f\"净利润增长率: {earnings_growth*100:.2f}%，净利润上升\")\n",
    "    elif earnings_growth < 0:\n",
    "        print(f\"净利润增长率: {earnings_growth*100:.2f}%，净利润下降\")\n",
    "    else:\n",
    "        print(\"净利润增长率为0,净利润保持不变\")\n",
    "else:\n",
    "    print(\"没有找到净利润增长率数据\")"
   ]
  },
  {
   "cell_type": "markdown",
   "metadata": {},
   "source": [
    "### 动态市盈率小于20"
   ]
  },
  {
   "cell_type": "code",
   "execution_count": 10,
   "metadata": {},
   "outputs": [
    {
     "name": "stdout",
     "output_type": "stream",
     "text": [
      "动态市盈率:23.79,大于或等于20\n"
     ]
    }
   ],
   "source": [
    "# 获取前瞻市盈率（Forward P/E）\n",
    "forward_pe = round(info.get(\"forwardPE\", None),2)\n",
    "\n",
    "if forward_pe is not None:\n",
    "    if forward_pe < 20:\n",
    "        print(f\"动态市盈率:{forward_pe},小于20\")\n",
    "    else:\n",
    "        print(f\"动态市盈率:{forward_pe},大于或等于20\")\n",
    "else:\n",
    "    print(\"没有找到前瞻市盈率数据\")"
   ]
  },
  {
   "cell_type": "markdown",
   "metadata": {},
   "source": [
    "### 股东人数是否降至历史最低或者次低"
   ]
  },
  {
   "cell_type": "code",
   "execution_count": 11,
   "metadata": {},
   "outputs": [
    {
     "name": "stdout",
     "output_type": "stream",
     "text": [
      "address1:Building A\n",
      "address2:Supporting Office Building T3 business area Bao'an Airport, Bao'an District\n",
      "city:Shenzhen\n",
      "zip:518128\n",
      "country:China\n",
      "phone:86 755 2345 6331\n",
      "fax:86 755 2345 6327\n",
      "website:https://www.szairport.com\n",
      "industry:Airports & Air Services\n",
      "industryKey:airports-air-services\n",
      "industryDisp:Airports & Air Services\n",
      "sector:Industrials\n",
      "sectorKey:industrials\n",
      "sectorDisp:Industrials\n",
      "longBusinessSummary:Shenzhen Airport Co., Ltd. operates and manages Shenzhen Bao'an International Airport in China. It engages in aviation ground support and aviation ground agency service business, that includes aircraft take-off and landing and parking support, airport flight control, district maintenance and operation management, passenger boarding, waiting and inbound and outbound services, aircraft maintenance and auxiliary services, aviation ground handling services for cargo, etc. The company is involved in aviation logistics business, such as air cargo transit handling services, aviation logistics park leasing and management services, aviation air freight forwarding service business, etc., as well as aviation value-added business, that includes advertising business in the airport terminal building, commercial terminal building and property leasing business, two-cabin service business, etc. Shenzhen Airport Co., Ltd. was founded in 1991 and is based in Shenzhen, China. Shenzhen Airport Co., Ltd operates as a subsidiary of Shenzhen Airport (Group) Co., Ltd.\n",
      "fullTimeEmployees:5217\n",
      "companyOfficers:[{'maxAge': 1, 'name': 'Mr. Feng  Liu', 'age': 53, 'title': 'GM & Director', 'yearBorn': 1970, 'exercisedValue': 0, 'unexercisedValue': 0}, {'maxAge': 1, 'name': 'Mr. Zheng Ling  Sun', 'age': 57, 'title': 'Secretary, CFO & Finance Director', 'yearBorn': 1966, 'exercisedValue': 0, 'unexercisedValue': 0}, {'maxAge': 1, 'name': 'Ms. Hongwei  Yang', 'age': 39, 'title': 'Director of the Finance Department, Accounting Supervisor', 'yearBorn': 1984, 'exercisedValue': 0, 'unexercisedValue': 0}, {'maxAge': 1, 'name': 'Mr. Guoping  Chen', 'age': 38, 'title': 'Director of Audit & Legal Affairs Department', 'yearBorn': 1985, 'exercisedValue': 0, 'unexercisedValue': 0}, {'maxAge': 1, 'name': 'Mr. Jian  Li', 'age': 55, 'title': 'Deputy General Manager', 'yearBorn': 1968, 'exercisedValue': 0, 'unexercisedValue': 0}, {'maxAge': 1, 'name': 'Mr. Qiaojun  Wu', 'age': 45, 'title': 'Deputy General Manager', 'yearBorn': 1978, 'exercisedValue': 0, 'unexercisedValue': 0}, {'maxAge': 1, 'name': 'Mr. Wen  Chang', 'age': 47, 'title': 'Deputy General Manager', 'yearBorn': 1976, 'exercisedValue': 0, 'unexercisedValue': 0}, {'maxAge': 1, 'name': 'Mr. Guangze  Du', 'age': 55, 'title': 'Deputy General Manager', 'yearBorn': 1968, 'exercisedValue': 0, 'unexercisedValue': 0}]\n",
      "maxAge:86400\n",
      "priceHint:2\n",
      "previousClose:6.96\n",
      "open:7.17\n",
      "dayLow:6.92\n",
      "dayHigh:6.97\n",
      "regularMarketPreviousClose:6.96\n",
      "regularMarketOpen:7.17\n",
      "regularMarketDayLow:6.92\n",
      "regularMarketDayHigh:6.97\n",
      "dividendRate:0.1\n",
      "dividendYield:0.014400001\n",
      "exDividendDate:1719532800\n",
      "payoutRatio:0.3664\n",
      "fiveYearAvgDividendYield:0.99\n",
      "beta:0.544\n",
      "trailingPE:25.777777\n",
      "forwardPE:23.794872\n",
      "volume:1536201\n",
      "regularMarketVolume:1536201\n",
      "averageVolume:17225100\n",
      "averageVolume10days:13862065\n",
      "averageDailyVolume10Day:13862065\n",
      "bid:6.95\n",
      "ask:6.96\n",
      "marketCap:14273359872\n",
      "fiftyTwoWeekLow:5.82\n",
      "fiftyTwoWeekHigh:7.78\n",
      "priceToSalesTrailing12Months:3.1109157\n",
      "fiftyDayAverage:7.0316\n",
      "twoHundredDayAverage:6.7\n",
      "trailingAnnualDividendRate:0.1\n",
      "trailingAnnualDividendYield:0.014367816\n",
      "currency:CNY\n",
      "enterpriseValue:20696053760\n",
      "profitMargins:0.12197\n",
      "floatShares:869833887\n",
      "sharesOutstanding:2050770048\n",
      "heldPercentInsiders:0.58698004\n",
      "heldPercentInstitutions:0.04521\n",
      "impliedSharesOutstanding:2050770048\n",
      "bookValue:5.479\n",
      "priceToBook:1.2703048\n",
      "lastFiscalYearEnd:1703980800\n",
      "nextFiscalYearEnd:1735603200\n",
      "mostRecentQuarter:1727654400\n",
      "earningsQuarterlyGrowth:-0.303\n",
      "netIncomeToCommon:559619648\n",
      "trailingEps:0.27\n",
      "forwardEps:0.31\n",
      "lastSplitFactor:1.8:1\n",
      "lastSplitDate:1149552000\n",
      "enterpriseToRevenue:4.511\n",
      "enterpriseToEbitda:14.705\n",
      "52WeekChange:0.06748462\n",
      "SandP52WeekChange:0.23397195\n",
      "lastDividendValue:0.1\n",
      "lastDividendDate:1719532800\n",
      "exchange:SHZ\n",
      "quoteType:EQUITY\n",
      "symbol:000089.SZ\n",
      "underlyingSymbol:000089.SZ\n",
      "shortName:SHN AIRPORT\n",
      "longName:Shenzhen Airport Co., Ltd.\n",
      "firstTradeDateEpochUtc:893035800\n",
      "timeZoneFullName:Asia/Shanghai\n",
      "timeZoneShortName:CST\n",
      "uuid:5b75ba8b-9af0-325e-ba04-80dc1a01782b\n",
      "messageBoardId:finmb_9011689\n",
      "gmtOffSetMilliseconds:28800000\n",
      "currentPrice:6.96\n",
      "targetHighPrice:9.5\n",
      "targetLowPrice:6.5\n",
      "targetMeanPrice:7.695\n",
      "targetMedianPrice:7.335\n",
      "recommendationKey:none\n",
      "numberOfAnalystOpinions:6\n",
      "totalCash:3705029888\n",
      "totalCashPerShare:1.807\n",
      "ebitda:1407419008\n",
      "totalDebt:10123611136\n",
      "quickRatio:1.648\n",
      "currentRatio:1.656\n",
      "totalRevenue:4588153856\n",
      "debtToEquity:90.069\n",
      "revenuePerShare:2.238\n",
      "returnOnAssets:0.016549999\n",
      "returnOnEquity:0.0507\n",
      "freeCashflow:-313444864\n",
      "operatingCashflow:1616817152\n",
      "earningsGrowth:-0.301\n",
      "revenueGrowth:0.109\n",
      "grossMargins:0.18604\n",
      "ebitdaMargins:0.30675\n",
      "operatingMargins:0.18581\n",
      "financialCurrency:CNY\n",
      "trailingPegRatio:None\n"
     ]
    }
   ],
   "source": [
    "for key in info.keys():\n",
    "    print(f'{key}:{info[key]}')"
   ]
  },
  {
   "cell_type": "markdown",
   "metadata": {},
   "source": [
    "### 1. 每月一次，查找最近月K线MACD指标在零下金叉，且现在已经跃上零线，并现在尚未死叉"
   ]
  },
  {
   "cell_type": "code",
   "execution_count": null,
   "metadata": {},
   "outputs": [
    {
     "name": "stderr",
     "output_type": "stream",
     "text": [
      "[*********************100%***********************]  1 of 1 completed"
     ]
    },
    {
     "name": "stdout",
     "output_type": "stream",
     "text": [
      "月线MACD金叉日期:\n"
     ]
    },
    {
     "name": "stderr",
     "output_type": "stream",
     "text": [
      "\n"
     ]
    },
    {
     "data": {
      "text/plain": [
       "DatetimeIndex(['2020-02-29', '2020-11-30'], dtype='datetime64[ns]', name='Date', freq='9M')"
      ]
     },
     "metadata": {},
     "output_type": "display_data"
    }
   ],
   "source": [
    "import yfinance as yf\n",
    "import pandas as pd\n",
    "\n",
    "\n",
    "def calculate_ema(data, span):\n",
    "    \"\"\"计算EMA\"\"\"\n",
    "    return data.ewm(span=span, adjust=False).mean()\n",
    "\n",
    "\n",
    "def calculate_macd(df, short=12, long=26, signal=9):\n",
    "    \"\"\"计算MACD指标\"\"\"\n",
    "    df[\"EMA_short\"] = calculate_ema(df[\"Close\"], short)\n",
    "    df[\"EMA_long\"] = calculate_ema(df[\"Close\"], long)\n",
    "    df[\"DIF\"] = df[\"EMA_short\"] - df[\"EMA_long\"]\n",
    "    df[\"DEA\"] = calculate_ema(df[\"DIF\"], signal)\n",
    "    df[\"MACD_hist\"] = 2 * (df[\"DIF\"] - df[\"DEA\"])\n",
    "    return df\n",
    "\n",
    "\n",
    "def find_macd_golden_cross(df):\n",
    "    \"\"\"查找MACD金叉的日期\"\"\"\n",
    "    df[\"Golden_Cross\"] = (df[\"DIF\"] > df[\"DEA\"]) & (\n",
    "        df[\"DIF\"].shift(1) <= df[\"DEA\"].shift(1)\n",
    "    )\n",
    "    golden_cross_dates = df[df[\"Golden_Cross\"]].index\n",
    "    return golden_cross_dates\n",
    "\n",
    "\n",
    "# 初始化\n",
    "stock_code = \"601669.SS\"\n",
    "data = yf.download(stock_code, start=\"2020-01-01\", end=\"2020-12-12\")\n",
    "data.columns = data.columns.droplevel(1)  # 去掉第二层的ticker，变为单层索引\n",
    "\n",
    "# 转换为月线数据，取每月最后一个交易日的收盘价\n",
    "monthly_data = (\n",
    "    data.resample(\"M\")\n",
    "    .agg({\"Open\": \"first\", \"High\": \"max\", \"Low\": \"min\", \"Close\": \"last\"})\n",
    "    .dropna()\n",
    ")\n",
    "\n",
    "# 计算月K线的MACD指标\n",
    "monthly_data = calculate_macd(monthly_data)\n",
    "\n",
    "# 查找MACD金叉\n",
    "golden_cross_dates = find_macd_golden_cross(monthly_data)\n",
    "\n",
    "# 输出金叉的日期\n",
    "print(\"月线MACD金叉日期:\")\n",
    "golden_cross_dates"
   ]
  }
 ],
 "metadata": {
  "kernelspec": {
   "display_name": "Python 3",
   "language": "python",
   "name": "python3"
  },
  "language_info": {
   "codemirror_mode": {
    "name": "ipython",
    "version": 3
   },
   "file_extension": ".py",
   "mimetype": "text/x-python",
   "name": "python",
   "nbconvert_exporter": "python",
   "pygments_lexer": "ipython3",
   "version": "3.10.11"
  }
 },
 "nbformat": 4,
 "nbformat_minor": 2
}
